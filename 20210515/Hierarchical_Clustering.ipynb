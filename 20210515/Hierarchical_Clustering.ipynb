{
 "cells": [
  {
   "cell_type": "code",
   "execution_count": 1,
   "metadata": {
    "colab": {},
    "colab_type": "code",
    "id": "OEVZB2KYH3X3"
   },
   "outputs": [],
   "source": [
    "# Hierarchical Clustering \n",
    "\n",
    "# Agglomerative Clustering which is a method of clustering \n",
    "# which builds a hierarchy of clusters by merging together small clusters\n",
    "\n",
    "# Silhouette Score\n",
    "# Clusters are well apart from each other as the silhouette score is closer to 1\n",
    "# Silhouette Coefficient score is a metric used to calculate the goodness of a clustering technique \n",
    "# Its value ranges from -1 to 1.\n",
    "# 1: Means clusters are well apart from each other and clearly distinguished.\n",
    "# 0: Means clusters are indifferent, or we can say that the distance between clusters is not significant.\n",
    "# -1: Means clusters are assigned in the wrong way."
   ]
  },
  {
   "cell_type": "code",
   "execution_count": 2,
   "metadata": {
    "colab": {},
    "colab_type": "code",
    "id": "qcrOZvxZDrFS"
   },
   "outputs": [],
   "source": [
    "# Importing Libraries\n",
    "\n",
    "from sklearn import datasets\n",
    "import matplotlib.pyplot as plt\n",
    "from sklearn.cluster import AgglomerativeClustering\n",
    "from sklearn.datasets import load_iris\n",
    "import numpy as np\n",
    "import pandas as pd\n",
    "from sklearn.metrics import silhouette_score"
   ]
  },
  {
   "cell_type": "code",
   "execution_count": 3,
   "metadata": {
    "colab": {
     "base_uri": "https://localhost:8080/",
     "height": 204
    },
    "colab_type": "code",
    "id": "IgadKpnrSlNM",
    "outputId": "0e1ad085-0af3-4ea2-b6c9-11c4a8bafb6c"
   },
   "outputs": [
    {
     "data": {
      "text/html": [
       "<div>\n",
       "<style scoped>\n",
       "    .dataframe tbody tr th:only-of-type {\n",
       "        vertical-align: middle;\n",
       "    }\n",
       "\n",
       "    .dataframe tbody tr th {\n",
       "        vertical-align: top;\n",
       "    }\n",
       "\n",
       "    .dataframe thead th {\n",
       "        text-align: right;\n",
       "    }\n",
       "</style>\n",
       "<table border=\"1\" class=\"dataframe\">\n",
       "  <thead>\n",
       "    <tr style=\"text-align: right;\">\n",
       "      <th></th>\n",
       "      <th>sepal length (cm)</th>\n",
       "      <th>sepal width (cm)</th>\n",
       "      <th>petal length (cm)</th>\n",
       "      <th>petal width (cm)</th>\n",
       "      <th>Type</th>\n",
       "    </tr>\n",
       "  </thead>\n",
       "  <tbody>\n",
       "    <tr>\n",
       "      <th>0</th>\n",
       "      <td>5.1</td>\n",
       "      <td>3.5</td>\n",
       "      <td>1.4</td>\n",
       "      <td>0.2</td>\n",
       "      <td>0</td>\n",
       "    </tr>\n",
       "    <tr>\n",
       "      <th>1</th>\n",
       "      <td>4.9</td>\n",
       "      <td>3.0</td>\n",
       "      <td>1.4</td>\n",
       "      <td>0.2</td>\n",
       "      <td>0</td>\n",
       "    </tr>\n",
       "    <tr>\n",
       "      <th>2</th>\n",
       "      <td>4.7</td>\n",
       "      <td>3.2</td>\n",
       "      <td>1.3</td>\n",
       "      <td>0.2</td>\n",
       "      <td>0</td>\n",
       "    </tr>\n",
       "    <tr>\n",
       "      <th>3</th>\n",
       "      <td>4.6</td>\n",
       "      <td>3.1</td>\n",
       "      <td>1.5</td>\n",
       "      <td>0.2</td>\n",
       "      <td>0</td>\n",
       "    </tr>\n",
       "    <tr>\n",
       "      <th>4</th>\n",
       "      <td>5.0</td>\n",
       "      <td>3.6</td>\n",
       "      <td>1.4</td>\n",
       "      <td>0.2</td>\n",
       "      <td>0</td>\n",
       "    </tr>\n",
       "  </tbody>\n",
       "</table>\n",
       "</div>"
      ],
      "text/plain": [
       "   sepal length (cm)  sepal width (cm)  petal length (cm)  petal width (cm)  \\\n",
       "0                5.1               3.5                1.4               0.2   \n",
       "1                4.9               3.0                1.4               0.2   \n",
       "2                4.7               3.2                1.3               0.2   \n",
       "3                4.6               3.1                1.5               0.2   \n",
       "4                5.0               3.6                1.4               0.2   \n",
       "\n",
       "   Type  \n",
       "0     0  \n",
       "1     0  \n",
       "2     0  \n",
       "3     0  \n",
       "4     0  "
      ]
     },
     "execution_count": 3,
     "metadata": {},
     "output_type": "execute_result"
    }
   ],
   "source": [
    "# Loading the Dataset\n",
    "\n",
    "iris = datasets.load_iris()\n",
    "iris_data = pd.DataFrame(iris.data)\n",
    "iris_data.columns = iris.feature_names\n",
    "iris_data['Type']=iris.target\n",
    "iris_data.head()"
   ]
  },
  {
   "cell_type": "code",
   "execution_count": 4,
   "metadata": {
    "colab": {
     "base_uri": "https://localhost:8080/",
     "height": 107
    },
    "colab_type": "code",
    "id": "YYotNIqgS1PM",
    "outputId": "cc3304da-9a95-4ff0-9361-29866fb1f068"
   },
   "outputs": [
    {
     "name": "stdout",
     "output_type": "stream",
     "text": [
      "[[5.1 3.5 1.4 0.2]\n",
      " [4.9 3.  1.4 0.2]\n",
      " [4.7 3.2 1.3 0.2]\n",
      " [4.6 3.1 1.5 0.2]\n",
      " [5.  3.6 1.4 0.2]]\n"
     ]
    }
   ],
   "source": [
    "# Preparing Data\n",
    "# Here we have the target variable ‘Type’. \n",
    "# We need to remove the target variable, used to work in an unsupervised learning \n",
    "# The iloc function is used to get the features we require. \n",
    "# We also use .values function to get an array of the dataset. \n",
    "# Note : We transformed the dataset to an array so that we can plot the graphs of the clusters\n",
    "\n",
    "iris_X = iris_data.iloc[:, [0, 1, 2,3]].values\n",
    "print(iris_X[:5,:]) # Printing First 5 Rows"
   ]
  },
  {
   "cell_type": "code",
   "execution_count": 5,
   "metadata": {
    "colab": {
     "base_uri": "https://localhost:8080/",
     "height": 125
    },
    "colab_type": "code",
    "id": "nQQGS8_dTvbU",
    "outputId": "7d690fac-4ee5-4b4b-d187-18c53fc805b8"
   },
   "outputs": [
    {
     "name": "stdout",
     "output_type": "stream",
     "text": [
      "[0 0 0 0 0 0 0 0 0 0 0 0 0 0 0 0 0 0 0 0 0 0 0 0 0 0 0 0 0 0 0 0 0 0 0 0 0\n",
      " 0 0 0 0 0 0 0 0 0 0 0 0 0 1 1 1 1 1 1 1 1 1 1 1 1 1 1 1 1 1 1 1 1 1 1 1 1\n",
      " 1 1 1 1 1 1 1 1 1 1 1 1 1 1 1 1 1 1 1 1 1 1 1 1 1 1 2 2 2 2 2 2 2 2 2 2 2\n",
      " 2 2 2 2 2 2 2 2 2 2 2 2 2 2 2 2 2 2 2 2 2 2 2 2 2 2 2 2 2 2 2 2 2 2 2 2 2\n",
      " 2 2]\n"
     ]
    },
    {
     "data": {
      "text/plain": [
       "{0: 50, 1: 50, 2: 50}"
      ]
     },
     "execution_count": 5,
     "metadata": {},
     "output_type": "execute_result"
    }
   ],
   "source": [
    "# Now we will separate the target variable from the original dataset \n",
    "# And again convert it to an array by using numpy\n",
    "iris_Y = iris_data['Type']\n",
    "iris_Y = np.array(iris_Y)\n",
    "print(iris_Y)\n",
    "# Frequency count of the Output clusters\n",
    "unique, counts = np.unique(iris_Y, return_counts=True)\n",
    "freq_1 = dict(zip(unique, counts))\n",
    "freq_1"
   ]
  },
  {
   "cell_type": "code",
   "execution_count": 6,
   "metadata": {
    "colab": {
     "base_uri": "https://localhost:8080/",
     "height": 395
    },
    "colab_type": "code",
    "id": "7zdlBmMrilBn",
    "outputId": "6d6a1938-d925-4fc0-a686-0a8d1a3a8720"
   },
   "outputs": [
    {
     "name": "stdout",
     "output_type": "stream",
     "text": [
      "Filtering Setosa, True means its Setosa and False means Non Setosa\n",
      "0    True\n",
      "1    True\n",
      "2    True\n",
      "3    True\n",
      "4    True\n",
      "Name: Type, dtype: bool\n",
      "Top 6 Rows of Setosa\n",
      "   sepal length (cm)  sepal width (cm)\n",
      "0                5.1               3.5\n",
      "1                4.9               3.0\n",
      "2                4.7               3.2\n",
      "3                4.6               3.1\n",
      "4                5.0               3.6\n",
      "Last 6 Rows of Setosa\n",
      "    sepal length (cm)  sepal width (cm)\n",
      "45                4.8               3.0\n",
      "46                5.1               3.8\n",
      "47                4.6               3.2\n",
      "48                5.3               3.7\n",
      "49                5.0               3.3\n"
     ]
    }
   ],
   "source": [
    "# Filtering Setosa\n",
    "\n",
    "Setosa = iris_data['Type'] == 0\n",
    "print(\"Filtering Setosa, True means its Setosa and False means Non Setosa\")\n",
    "print(Setosa.head())\n",
    "print(\"Top 6 Rows of Setosa\")\n",
    "Setosa_v2 = iris_data[Setosa]\n",
    "print(Setosa_v2[Setosa_v2.columns[0:2]].head())\n",
    "print(\"Last 6 Rows of Setosa\")\n",
    "print(Setosa_v2[Setosa_v2.columns[0:2]].tail())"
   ]
  },
  {
   "cell_type": "code",
   "execution_count": 7,
   "metadata": {
    "colab": {
     "base_uri": "https://localhost:8080/",
     "height": 485
    },
    "colab_type": "code",
    "id": "_wOmXWLJWzq5",
    "outputId": "083498f6-b5bc-4968-8cbb-a7c20cbeab12"
   },
   "outputs": [
    {
     "name": "stdout",
     "output_type": "stream",
     "text": [
      "Setosa for 2D Plot\n",
      "X Axis points\n",
      "[5.1 4.9 4.7 4.6 5.  5.4 4.6 5.  4.4 4.9 5.4 4.8 4.8 4.3 5.8 5.7 5.4 5.1\n",
      " 5.7 5.1 5.4 5.1 4.6 5.1 4.8 5.  5.  5.2 5.2 4.7 4.8 5.4 5.2 5.5 4.9 5.\n",
      " 5.5 4.9 4.4 5.1 5.  4.5 4.4 5.  5.1 4.8 5.1 4.6 5.3 5. ]\n",
      "Y Axis Points\n",
      "[3.5 3.  3.2 3.1 3.6 3.9 3.4 3.4 2.9 3.1 3.7 3.4 3.  3.  4.  4.4 3.9 3.5\n",
      " 3.8 3.8 3.4 3.7 3.6 3.3 3.4 3.  3.4 3.5 3.4 3.2 3.1 3.4 4.1 4.2 3.1 3.2\n",
      " 3.5 3.6 3.  3.4 3.5 2.3 3.2 3.5 3.8 3.  3.8 3.2 3.7 3.3]\n",
      "\n",
      "\n"
     ]
    },
    {
     "data": {
      "text/plain": [
       "(2.0, 4.5)"
      ]
     },
     "execution_count": 7,
     "metadata": {},
     "output_type": "execute_result"
    },
    {
     "data": {
      "image/png": "[encoded data removed]",
      "text/plain": [
       "<Figure size 432x288 with 1 Axes>"
      ]
     },
     "metadata": {
      "needs_background": "light"
     },
     "output_type": "display_data"
    }
   ],
   "source": [
    "# Filtering Setosa for 2D Plot \n",
    "\n",
    "print(\"Setosa for 2D Plot\")\n",
    "print(\"X Axis points\")\n",
    "print(iris_X[iris_Y == 0,0])\n",
    "print(\"Y Axis Points\")\n",
    "print(iris_X[iris_Y == 0,1])\n",
    "print('\\n')\n",
    "# For Setosa in Target Column i.e, iris_Y = 0 \n",
    "# In other word it should range from (0,0) to (0,1)\n",
    "plt.scatter(iris_X[iris_Y == 0, 0], iris_X[iris_Y == 0, 1], \n",
    "            s = 80, c = 'orange', label = 'Iris-setosa')\n",
    "plt.xlim([4.5,8])\n",
    "plt.ylim([2,4.5])"
   ]
  },
  {
   "cell_type": "code",
   "execution_count": 8,
   "metadata": {
    "colab": {
     "base_uri": "https://localhost:8080/",
     "height": 395
    },
    "colab_type": "code",
    "id": "vN6l86eLnvni",
    "outputId": "e58b70b5-3623-44dd-fe31-417d81bb5275"
   },
   "outputs": [
    {
     "name": "stdout",
     "output_type": "stream",
     "text": [
      "Filtering Versicolour, True means its Versicolour and False means Non Versicolour\n",
      "0    False\n",
      "1    False\n",
      "2    False\n",
      "3    False\n",
      "4    False\n",
      "Name: Type, dtype: bool\n",
      "Top 6 Rows of Versicolour\n",
      "    sepal length (cm)  sepal width (cm)\n",
      "50                7.0               3.2\n",
      "51                6.4               3.2\n",
      "52                6.9               3.1\n",
      "53                5.5               2.3\n",
      "54                6.5               2.8\n",
      "Last 6 Rows of Versicolour\n",
      "    sepal length (cm)  sepal width (cm)\n",
      "95                5.7               3.0\n",
      "96                5.7               2.9\n",
      "97                6.2               2.9\n",
      "98                5.1               2.5\n",
      "99                5.7               2.8\n"
     ]
    }
   ],
   "source": [
    "# Filtering Versicolour\n",
    "\n",
    "Versi = iris_data['Type'] == 1\n",
    "print(\"Filtering Versicolour, True means its Versicolour and False means Non Versicolour\")\n",
    "print(Versi.head())\n",
    "print(\"Top 6 Rows of Versicolour\")\n",
    "Versi_v2 = iris_data[Versi]\n",
    "print(Versi_v2[Versi_v2.columns[0:2]].head())\n",
    "print(\"Last 6 Rows of Versicolour\")\n",
    "print(Versi_v2[Versi_v2.columns[0:2]].tail())"
   ]
  },
  {
   "cell_type": "code",
   "execution_count": 9,
   "metadata": {
    "colab": {
     "base_uri": "https://localhost:8080/",
     "height": 485
    },
    "colab_type": "code",
    "id": "M7mb70sXnTMg",
    "outputId": "483a8bf5-ae7f-4951-caa2-063cbbbc9cee"
   },
   "outputs": [
    {
     "name": "stdout",
     "output_type": "stream",
     "text": [
      "Versicolour for 2D Plot\n",
      "X Axis points\n",
      "[7.  6.4 6.9 5.5 6.5 5.7 6.3 4.9 6.6 5.2 5.  5.9 6.  6.1 5.6 6.7 5.6 5.8\n",
      " 6.2 5.6 5.9 6.1 6.3 6.1 6.4 6.6 6.8 6.7 6.  5.7 5.5 5.5 5.8 6.  5.4 6.\n",
      " 6.7 6.3 5.6 5.5 5.5 6.1 5.8 5.  5.6 5.7 5.7 6.2 5.1 5.7]\n",
      "Y Axis Points\n",
      "[3.2 3.2 3.1 2.3 2.8 2.8 3.3 2.4 2.9 2.7 2.  3.  2.2 2.9 2.9 3.1 3.  2.7\n",
      " 2.2 2.5 3.2 2.8 2.5 2.8 2.9 3.  2.8 3.  2.9 2.6 2.4 2.4 2.7 2.7 3.  3.4\n",
      " 3.1 2.3 3.  2.5 2.6 3.  2.6 2.3 2.7 3.  2.9 2.9 2.5 2.8]\n",
      "\n",
      "\n"
     ]
    },
    {
     "data": {
      "text/plain": [
       "(2.0, 4.5)"
      ]
     },
     "execution_count": 9,
     "metadata": {},
     "output_type": "execute_result"
    },
    {
     "data": {
      "image/png": "[encoded data removed]",
      "text/plain": [
       "<Figure size 432x288 with 1 Axes>"
      ]
     },
     "metadata": {
      "needs_background": "light"
     },
     "output_type": "display_data"
    }
   ],
   "source": [
    "# Filtering Versicolour for 2D Plot \n",
    "\n",
    "print(\"Versicolour for 2D Plot\")\n",
    "print(\"X Axis points\")\n",
    "print(iris_X[iris_Y == 1,0])\n",
    "print(\"Y Axis Points\")\n",
    "print(iris_X[iris_Y == 1,1])\n",
    "print('\\n')\n",
    "plt.scatter(iris_X[iris_Y == 1, 0], iris_X[iris_Y == 1, 1], \n",
    "            s = 80, c = 'yellow', label = 'Iris-versicolour')\n",
    "\n",
    "plt.xlim([4.5,8])\n",
    "plt.ylim([2,4.5])"
   ]
  },
  {
   "cell_type": "code",
   "execution_count": 10,
   "metadata": {
    "colab": {
     "base_uri": "https://localhost:8080/",
     "height": 395
    },
    "colab_type": "code",
    "id": "qD2TL0cwocaN",
    "outputId": "79cbabbb-0739-45b8-fd36-9a2d71bda44b"
   },
   "outputs": [
    {
     "name": "stdout",
     "output_type": "stream",
     "text": [
      "Filtering Virginica, True means its Virginica and False means Non Virginica\n",
      "0    False\n",
      "1    False\n",
      "2    False\n",
      "3    False\n",
      "4    False\n",
      "Name: Type, dtype: bool\n",
      "Top 6 Rows of Virginica\n",
      "     sepal length (cm)  sepal width (cm)\n",
      "100                6.3               3.3\n",
      "101                5.8               2.7\n",
      "102                7.1               3.0\n",
      "103                6.3               2.9\n",
      "104                6.5               3.0\n",
      "Last 6 Rows of Virginica\n",
      "     sepal length (cm)  sepal width (cm)\n",
      "145                6.7               3.0\n",
      "146                6.3               2.5\n",
      "147                6.5               3.0\n",
      "148                6.2               3.4\n",
      "149                5.9               3.0\n"
     ]
    }
   ],
   "source": [
    "# Filtering Virginica\n",
    "\n",
    "Virginica = iris_data['Type'] == 2\n",
    "print(\"Filtering Virginica, True means its Virginica and False means Non Virginica\")\n",
    "print(Virginica.head())\n",
    "print(\"Top 6 Rows of Virginica\")\n",
    "Virginica_v2 = iris_data[Virginica]\n",
    "print(Virginica_v2[Virginica_v2.columns[0:2]].head())\n",
    "print(\"Last 6 Rows of Virginica\")\n",
    "print(Virginica_v2[Virginica_v2.columns[0:2]].tail())"
   ]
  },
  {
   "cell_type": "code",
   "execution_count": 11,
   "metadata": {
    "colab": {
     "base_uri": "https://localhost:8080/",
     "height": 485
    },
    "colab_type": "code",
    "id": "wsnoGdx0objs",
    "outputId": "66e8d27b-86aa-4c81-9a11-27e28117b09d"
   },
   "outputs": [
    {
     "name": "stdout",
     "output_type": "stream",
     "text": [
      "Virginica for 2D Plot\n",
      "X Axis points\n",
      "[6.3 5.8 7.1 6.3 6.5 7.6 4.9 7.3 6.7 7.2 6.5 6.4 6.8 5.7 5.8 6.4 6.5 7.7\n",
      " 7.7 6.  6.9 5.6 7.7 6.3 6.7 7.2 6.2 6.1 6.4 7.2 7.4 7.9 6.4 6.3 6.1 7.7\n",
      " 6.3 6.4 6.  6.9 6.7 6.9 5.8 6.8 6.7 6.7 6.3 6.5 6.2 5.9]\n",
      "Y Axis Points\n",
      "[3.3 2.7 3.  2.9 3.  3.  2.5 2.9 2.5 3.6 3.2 2.7 3.  2.5 2.8 3.2 3.  3.8\n",
      " 2.6 2.2 3.2 2.8 2.8 2.7 3.3 3.2 2.8 3.  2.8 3.  2.8 3.8 2.8 2.8 2.6 3.\n",
      " 3.4 3.1 3.  3.1 3.1 3.1 2.7 3.2 3.3 3.  2.5 3.  3.4 3. ]\n",
      "\n",
      "\n"
     ]
    },
    {
     "data": {
      "text/plain": [
       "(2.0, 4.5)"
      ]
     },
     "execution_count": 11,
     "metadata": {},
     "output_type": "execute_result"
    },
    {
     "data": {
      "image/png": "[encoded data removed]",
      "text/plain": [
       "<Figure size 432x288 with 1 Axes>"
      ]
     },
     "metadata": {
      "needs_background": "light"
     },
     "output_type": "display_data"
    }
   ],
   "source": [
    "# Filtering Virginica for 2D Plot\n",
    "\n",
    "print(\"Virginica for 2D Plot\")\n",
    "print(\"X Axis points\")\n",
    "print(iris_X[iris_Y == 2,0])\n",
    "print(\"Y Axis Points\")\n",
    "print(iris_X[iris_Y == 2,1])\n",
    "print('\\n')\n",
    "plt.scatter(iris_X[iris_Y == 2, 0], iris_X[iris_Y == 2, 1], \n",
    "            s = 80, c = 'green', label = 'Iris-virginica')\n",
    "plt.xlim([4.5,8])\n",
    "plt.ylim([2,4.5])"
   ]
  },
  {
   "cell_type": "code",
   "execution_count": 12,
   "metadata": {
    "colab": {
     "base_uri": "https://localhost:8080/",
     "height": 286
    },
    "colab_type": "code",
    "id": "HCShLm9HUWHn",
    "outputId": "d2bd50fd-12dd-48b8-aacd-c51aba490576"
   },
   "outputs": [
    {
     "data": {
      "text/plain": [
       "<matplotlib.legend.Legend at 0x25fd816abe0>"
      ]
     },
     "execution_count": 12,
     "metadata": {},
     "output_type": "execute_result"
    },
    {
     "data": {
      "image/png": "[encoded data removed]",
      "text/plain": [
       "<Figure size 432x288 with 1 Axes>"
      ]
     },
     "metadata": {
      "needs_background": "light"
     },
     "output_type": "display_data"
    }
   ],
   "source": [
    "# Visualise Classes all at once\n",
    "\n",
    "# In this Iris dataset, we have three classes (0,1,2)\n",
    "# We visualise these classes in a 2-D graph \n",
    "# This will help us in comparing the original classes with the clusters created \n",
    "# Plot the three type of flowers on a graph\n",
    "\n",
    "plt.scatter(iris_X[iris_Y == 0, 0], iris_X[iris_Y == 0, 1], \n",
    "            s = 80, c = 'orange', label = 'Iris-setosa')\n",
    "plt.scatter(iris_X[iris_Y == 1, 0], iris_X[iris_Y == 1, 1], \n",
    "            s = 80, c = 'yellow', label = 'Iris-versicolour')\n",
    "plt.scatter(iris_X[iris_Y == 2, 0], iris_X[iris_Y == 2, 1], \n",
    "            s = 80, c = 'green', label = 'Iris-virginica')\n",
    "plt.legend()\n",
    "\n",
    "# Inference : \n",
    "# We find that we have three classes with two types of Iris flowers overlapping each other"
   ]
  },
  {
   "cell_type": "code",
   "execution_count": 13,
   "metadata": {
    "colab": {
     "base_uri": "https://localhost:8080/",
     "height": 204
    },
    "colab_type": "code",
    "id": "Q4QWIYUC5XG7",
    "outputId": "d2a9b743-a4df-4e58-9299-6ffb7acfab9e"
   },
   "outputs": [
    {
     "data": {
      "text/html": [
       "<div>\n",
       "<style scoped>\n",
       "    .dataframe tbody tr th:only-of-type {\n",
       "        vertical-align: middle;\n",
       "    }\n",
       "\n",
       "    .dataframe tbody tr th {\n",
       "        vertical-align: top;\n",
       "    }\n",
       "\n",
       "    .dataframe thead th {\n",
       "        text-align: right;\n",
       "    }\n",
       "</style>\n",
       "<table border=\"1\" class=\"dataframe\">\n",
       "  <thead>\n",
       "    <tr style=\"text-align: right;\">\n",
       "      <th></th>\n",
       "      <th>sepal length (cm)</th>\n",
       "      <th>sepal width (cm)</th>\n",
       "      <th>petal length (cm)</th>\n",
       "      <th>petal width (cm)</th>\n",
       "    </tr>\n",
       "  </thead>\n",
       "  <tbody>\n",
       "    <tr>\n",
       "      <th>0</th>\n",
       "      <td>5.1</td>\n",
       "      <td>3.5</td>\n",
       "      <td>1.4</td>\n",
       "      <td>0.2</td>\n",
       "    </tr>\n",
       "    <tr>\n",
       "      <th>1</th>\n",
       "      <td>4.9</td>\n",
       "      <td>3.0</td>\n",
       "      <td>1.4</td>\n",
       "      <td>0.2</td>\n",
       "    </tr>\n",
       "    <tr>\n",
       "      <th>2</th>\n",
       "      <td>4.7</td>\n",
       "      <td>3.2</td>\n",
       "      <td>1.3</td>\n",
       "      <td>0.2</td>\n",
       "    </tr>\n",
       "    <tr>\n",
       "      <th>3</th>\n",
       "      <td>4.6</td>\n",
       "      <td>3.1</td>\n",
       "      <td>1.5</td>\n",
       "      <td>0.2</td>\n",
       "    </tr>\n",
       "    <tr>\n",
       "      <th>4</th>\n",
       "      <td>5.0</td>\n",
       "      <td>3.6</td>\n",
       "      <td>1.4</td>\n",
       "      <td>0.2</td>\n",
       "    </tr>\n",
       "  </tbody>\n",
       "</table>\n",
       "</div>"
      ],
      "text/plain": [
       "   sepal length (cm)  sepal width (cm)  petal length (cm)  petal width (cm)\n",
       "0                5.1               3.5                1.4               0.2\n",
       "1                4.9               3.0                1.4               0.2\n",
       "2                4.7               3.2                1.3               0.2\n",
       "3                4.6               3.1                1.5               0.2\n",
       "4                5.0               3.6                1.4               0.2"
      ]
     },
     "execution_count": 13,
     "metadata": {},
     "output_type": "execute_result"
    }
   ],
   "source": [
    "# Plotting of Dendrogram\n",
    "\n",
    "# We make use of dendrogram to decide the number of clusters required for our dataset\n",
    "# A dendrogram is a tree diagram which illustrates the arrangement of clusters.\n",
    "import scipy.cluster.hierarchy as sch\n",
    "\n",
    "# Pick the features from the original dataset\n",
    "# We don't need Target Column in Clustering\n",
    "iris_X_1 = iris_data[['sepal length (cm)','sepal width (cm)',\n",
    "                      'petal length (cm)','petal width (cm)']]\n",
    "iris_X_1.head()"
   ]
  },
  {
   "cell_type": "code",
   "execution_count": 14,
   "metadata": {
    "colab": {
     "base_uri": "https://localhost:8080/",
     "height": 395
    },
    "colab_type": "code",
    "id": "TSWOuFF756Fi",
    "outputId": "06710af3-fec8-4c5c-9c12-80a2c04c4a99"
   },
   "outputs": [
    {
     "data": {
      "text/plain": [
       "Text(0, 0.5, 'Euclidean distance in the space with other variables')"
      ]
     },
     "execution_count": 14,
     "metadata": {},
     "output_type": "execute_result"
    },
    {
     "data": {
      "image/png": "[encoded data removed]",
      "text/plain": [
       "<Figure size 1440x504 with 1 Axes>"
      ]
     },
     "metadata": {
      "needs_background": "light"
     },
     "output_type": "display_data"
    }
   ],
   "source": [
    "# We finally plot a Dendrogram \n",
    "# which helps us in deciding what the threshold values should be for the clustering algorithm\n",
    "# Basically, we decide the number of clusters by using this dendrogram.\n",
    "\n",
    "Z = sch.linkage(iris_X_1, method = 'median')\n",
    "plt.figure(figsize=(20,7))\n",
    "den = sch.dendrogram(Z)\n",
    "plt.title('Dendrogram for the clustering of the dataset iris)')\n",
    "plt.xlabel('Type')\n",
    "plt.ylabel('Euclidean distance in the space with other variables')"
   ]
  },
  {
   "cell_type": "code",
   "execution_count": 15,
   "metadata": {
    "colab": {
     "base_uri": "https://localhost:8080/",
     "height": 392
    },
    "colab_type": "code",
    "id": "1zjZaTB1aKCj",
    "outputId": "bfc6af2f-4431-43b1-dfb7-ca24c0715e2b"
   },
   "outputs": [
    {
     "data": {
      "text/plain": [
       "Text(0, 0.5, 'Euclidean distance in the space with other variables')"
      ]
     },
     "execution_count": 15,
     "metadata": {},
     "output_type": "execute_result"
    },
    {
     "data": {
      "image/png": "[encoded data removed]",
      "text/plain": [
       "<Figure size 1440x504 with 1 Axes>"
      ]
     },
     "metadata": {
      "needs_background": "light"
     },
     "output_type": "display_data"
    }
   ],
   "source": [
    "# Single Linkage - Nearest Point\n",
    "\n",
    "Z = sch.linkage(iris_X_1, method = 'single')\n",
    "plt.figure(figsize=(20,7))\n",
    "den = sch.dendrogram(Z)\n",
    "plt.title('Dendrogram for the clustering of the dataset iris)')\n",
    "plt.xlabel('Type')\n",
    "plt.ylabel('Euclidean distance in the space with other variables')"
   ]
  },
  {
   "cell_type": "code",
   "execution_count": 16,
   "metadata": {
    "colab": {
     "base_uri": "https://localhost:8080/",
     "height": 395
    },
    "colab_type": "code",
    "id": "NpQnbDUMaLkt",
    "outputId": "8445cacc-3dc7-43ec-9f59-7d7b5960bc80"
   },
   "outputs": [
    {
     "data": {
      "text/plain": [
       "Text(0, 0.5, 'Euclidean distance in the space with other variables')"
      ]
     },
     "execution_count": 16,
     "metadata": {},
     "output_type": "execute_result"
    },
    {
     "data": {
      "image/png": "[encoded data removed]",
      "text/plain": [
       "<Figure size 1440x504 with 1 Axes>"
      ]
     },
     "metadata": {
      "needs_background": "light"
     },
     "output_type": "display_data"
    }
   ],
   "source": [
    "# Complete Linkage - Farthest Point \n",
    "\n",
    "Z = sch.linkage(iris_X_1, method = 'complete')\n",
    "plt.figure(figsize=(20,7))\n",
    "den = sch.dendrogram(Z)\n",
    "plt.title('Dendrogram for the clustering of the dataset iris)')\n",
    "plt.xlabel('Type')\n",
    "plt.ylabel('Euclidean distance in the space with other variables')\n"
   ]
  },
  {
   "cell_type": "code",
   "execution_count": 17,
   "metadata": {
    "colab": {
     "base_uri": "https://localhost:8080/",
     "height": 392
    },
    "colab_type": "code",
    "id": "zH_7oxCTaMbZ",
    "outputId": "567b5a53-d4d9-43a6-b364-7c3c0331d5f2"
   },
   "outputs": [
    {
     "data": {
      "text/plain": [
       "Text(0, 0.5, 'Euclidean distance in the space with other variables')"
      ]
     },
     "execution_count": 17,
     "metadata": {},
     "output_type": "execute_result"
    },
    {
     "data": {
      "image/png": "[encoded data removed]",
      "text/plain": [
       "<Figure size 1440x504 with 1 Axes>"
      ]
     },
     "metadata": {
      "needs_background": "light"
     },
     "output_type": "display_data"
    }
   ],
   "source": [
    "# Average Linkage - Average Distance between all points\n",
    "\n",
    "Z = sch.linkage(iris_X_1, method = 'average')\n",
    "plt.figure(figsize=(20,7))\n",
    "den = sch.dendrogram(Z)\n",
    "plt.title('Dendrogram for the clustering of the dataset iris)')\n",
    "plt.xlabel('Type')\n",
    "plt.ylabel('Euclidean distance in the space with other variables')\n"
   ]
  },
  {
   "cell_type": "code",
   "execution_count": 18,
   "metadata": {
    "colab": {
     "base_uri": "https://localhost:8080/",
     "height": 71
    },
    "colab_type": "code",
    "id": "pJnhnUlt6Hw7",
    "outputId": "4440bfae-dd1d-435e-d414-f7a8952b7c82"
   },
   "outputs": [
    {
     "data": {
      "text/plain": [
       "AgglomerativeClustering(n_clusters=3)"
      ]
     },
     "execution_count": 18,
     "metadata": {},
     "output_type": "execute_result"
    }
   ],
   "source": [
    "# Building an Agglomerative Clustering Model\n",
    "# Initialise Model\n",
    "# We analyse the above-created dendrogram \n",
    "# decide that we will be making 3 clusters for this dataset\n",
    "\n",
    "cluster_H = AgglomerativeClustering(n_clusters=3)\n",
    "cluster_H"
   ]
  },
  {
   "cell_type": "code",
   "execution_count": 19,
   "metadata": {
    "colab": {
     "base_uri": "https://localhost:8080/",
     "height": 71
    },
    "colab_type": "code",
    "id": "BYHVXgB96Yxi",
    "outputId": "d3c38bfd-fc5d-4c4f-83a8-855e3daf9d9f"
   },
   "outputs": [
    {
     "data": {
      "text/plain": [
       "AgglomerativeClustering(n_clusters=3)"
      ]
     },
     "execution_count": 19,
     "metadata": {},
     "output_type": "execute_result"
    }
   ],
   "source": [
    "# Fitting Model\n",
    "# After building Agglomerative clustering, we will fit our iris data set\n",
    "# Note that only the independent variables from the Iris dataset \n",
    "# are taken into account for the purpose of clustering\n",
    "\n",
    "model_clt = cluster_H.fit(iris_X_1)\n",
    "model_clt"
   ]
  },
  {
   "cell_type": "code",
   "execution_count": 20,
   "metadata": {
    "colab": {
     "base_uri": "https://localhost:8080/",
     "height": 143
    },
    "colab_type": "code",
    "id": "RCNXJPX26oCP",
    "outputId": "425d233f-d1c6-4c05-9e5d-f2bf90e5b941"
   },
   "outputs": [
    {
     "name": "stdout",
     "output_type": "stream",
     "text": [
      "Output Clusters are\n",
      "[1 1 1 1 1 1 1 1 1 1 1 1 1 1 1 1 1 1 1 1 1 1 1 1 1 1 1 1 1 1 1 1 1 1 1 1 1\n",
      " 1 1 1 1 1 1 1 1 1 1 1 1 1 0 0 0 0 0 0 0 0 0 0 0 0 0 0 0 0 0 0 0 0 0 0 0 0\n",
      " 0 0 0 2 0 0 0 0 0 0 0 0 0 0 0 0 0 0 0 0 0 0 0 0 0 0 2 0 2 2 2 2 0 2 2 2 2\n",
      " 2 2 0 0 2 2 2 2 0 2 0 2 0 2 2 0 0 2 2 2 2 2 0 0 2 2 2 0 2 2 2 0 2 2 2 0 2\n",
      " 2 0]\n",
      "{0: 64, 1: 50, 2: 36}\n"
     ]
    }
   ],
   "source": [
    "# Predicting Output Class\n",
    "\n",
    "print('Output Clusters are')\n",
    "pred1 = model_clt.labels_\n",
    "print(pred1)\n",
    "# Frequency count of the Output clusters\n",
    "unique, counts = np.unique(pred1, return_counts=True)\n",
    "print(dict(zip(unique, counts)))"
   ]
  },
  {
   "cell_type": "code",
   "execution_count": 21,
   "metadata": {
    "colab": {
     "base_uri": "https://localhost:8080/",
     "height": 430
    },
    "colab_type": "code",
    "id": "oMPtUa9C7B-T",
    "outputId": "c142809b-4d35-4c4d-aa6c-8575e940389f"
   },
   "outputs": [
    {
     "name": "stdout",
     "output_type": "stream",
     "text": [
      "Original Cluster\n",
      "{0: 50, 1: 50, 2: 50}\n",
      "Hierarchical Clustering Output Cluster\n",
      "{0: 64, 1: 50, 2: 36}\n",
      "Silhouette Score for 3 Clusters\n",
      "0.5543236611296415\n",
      "\n",
      "\n"
     ]
    },
    {
     "data": {
      "text/plain": [
       "<matplotlib.legend.Legend at 0x25fd843c3a0>"
      ]
     },
     "execution_count": 21,
     "metadata": {},
     "output_type": "execute_result"
    },
    {
     "data": {
      "image/png": "[encoded data removed]",
      "text/plain": [
       "<Figure size 432x288 with 1 Axes>"
      ]
     },
     "metadata": {
      "needs_background": "light"
     },
     "output_type": "display_data"
    }
   ],
   "source": [
    "# Visualizing Output\n",
    "\n",
    "print('Original Cluster')\n",
    "print(freq_1)\n",
    "# Frequency count of the Output clusters\n",
    "unique, counts = np.unique(pred1, return_counts=True)\n",
    "print('Hierarchical Clustering Output Cluster')\n",
    "print(dict(zip(unique, counts)))\n",
    "# Silhouette Score\n",
    "print('Silhouette Score for 3 Clusters')\n",
    "print(silhouette_score(iris_X,pred1))\n",
    "print('\\n')\n",
    "\n",
    "# In the above output we got value labels: ‘0’, ‘1’  and ‘2’\n",
    "# For a better understanding, we can visualize these clusters.\n",
    "\n",
    "# We use the above-found class labels and visualise how the clusters have been formed.\n",
    "\n",
    "plt.scatter(iris_X[pred1 == 0, 0], iris_X[pred1 == 0, 1], \n",
    "            s = 80, c = 'orange', label = 'Iris-setosa')\n",
    "plt.scatter(iris_X[pred1 == 1, 0], iris_X[pred1 == 1, 1], \n",
    "            s = 80, c = 'yellow', label = 'Iris-versicolour')\n",
    "plt.scatter(iris_X[pred1 == 2, 0], iris_X[pred1 == 2, 1], \n",
    "            s = 80, c = 'green', label = 'Iris-virginica')\n",
    "plt.legend()\n",
    "\n",
    "# Inference : \n",
    "# When compared to the original classes we find that the observations of the class label \n",
    "# \"1\" has been correctly formed into a separate well-defined cluster\n",
    "# however, for the other two classes, clusters are not as correct. \n",
    "# This is mainly because, in the original dataset, these two class labels were overlapping each other \n",
    "# which makes it difficult for the clustering algorithm as it works best for clear neat separate observations. \n",
    "# Still, the clusters have been formed, more or less correctly"
   ]
  }
 ],
 "metadata": {
  "colab": {
   "authorship_tag": "ABX9TyOcNJnzlGscARY2g2fgeEkQ",
   "collapsed_sections": [],
   "include_colab_link": true,
   "name": "09 Hierarchical Clustering.ipynb",
   "provenance": []
  },
  "kernelspec": {
   "display_name": "Python 3",
   "language": "python",
   "name": "python3"
  },
  "language_info": {
   "codemirror_mode": {
    "name": "ipython",
    "version": 3
   },
   "file_extension": ".py",
   "mimetype": "text/x-python",
   "name": "python",
   "nbconvert_exporter": "python",
   "pygments_lexer": "ipython3",
   "version": "3.8.5"
  }
 },
 "nbformat": 4,
 "nbformat_minor": 1
}
