{
 "cells": [
  {
   "cell_type": "markdown",
   "metadata": {},
   "source": [
    "**Linear Regression Tutorial**<br/>"
   ]
  },
  {
   "cell_type": "code",
   "execution_count": 1,
   "metadata": {},
   "outputs": [],
   "source": [
    "# Python set up (load modules) \n",
    "import numpy as np\n",
    "import pandas as pd\n",
    "#from pandas.api.types import CategoricalDtype\n",
    "from scipy import stats\n",
    "import statsmodels.api as sm\n",
    "import statsmodels.formula.api as smf\n",
    "from statsmodels.stats.outliers_influence import summary_table # confidence interval\n",
    "import matplotlib.pyplot as plt\n",
    "%matplotlib inline \n",
    "plt.style.use('ggplot') \n",
    "import seaborn as sns  \n",
    "sns.set() \n",
    "from IPython.display import Image"
   ]
  },
  {
   "cell_type": "markdown",
   "metadata": {
    "toc": true
   },
   "source": [
    "<h1>Table of Contents<span class=\"tocSkip\"></span></h1>\n",
    "<div class=\"toc\"><ul class=\"toc-item\"><li><span><a href=\"#Import-data\" data-toc-modified-id=\"Import-data-1\"><span class=\"toc-item-num\">1&nbsp;&nbsp;</span>Import data</a></span></li><li><span><a href=\"#Tidying-data\" data-toc-modified-id=\"Tidying-data-2\"><span class=\"toc-item-num\">2&nbsp;&nbsp;</span>Tidying data</a></span><ul class=\"toc-item\"><li><span><a href=\"#Data-inspection\" data-toc-modified-id=\"Data-inspection-2.1\"><span class=\"toc-item-num\">2.1&nbsp;&nbsp;</span>Data inspection</a></span></li><li><span><a href=\"#Handle-missing-values\" data-toc-modified-id=\"Handle-missing-values-2.2\"><span class=\"toc-item-num\">2.2&nbsp;&nbsp;</span>Handle missing values</a></span></li></ul></li><li><span><a href=\"#Transform-data\" data-toc-modified-id=\"Transform-data-3\"><span class=\"toc-item-num\">3&nbsp;&nbsp;</span>Transform data</a></span><ul class=\"toc-item\"><li><span><a href=\"#Descriptive-statistics\" data-toc-modified-id=\"Descriptive-statistics-3.1\"><span class=\"toc-item-num\">3.1&nbsp;&nbsp;</span>Descriptive statistics</a></span><ul class=\"toc-item\"><li><span><a href=\"#Measures-of-central-tendency\" data-toc-modified-id=\"Measures-of-central-tendency-3.1.1\"><span class=\"toc-item-num\">3.1.1&nbsp;&nbsp;</span>Measures of central tendency</a></span></li><li><span><a href=\"#Measures-of-dispersion\" data-toc-modified-id=\"Measures-of-dispersion-3.1.2\"><span class=\"toc-item-num\">3.1.2&nbsp;&nbsp;</span>Measures of dispersion</a></span></li><li><span><a href=\"#Summary-statistics\" data-toc-modified-id=\"Summary-statistics-3.1.3\"><span class=\"toc-item-num\">3.1.3&nbsp;&nbsp;</span>Summary statistics</a></span></li></ul></li></ul></li><li><span><a href=\"#Visualize-data\" data-toc-modified-id=\"Visualize-data-4\"><span class=\"toc-item-num\">4&nbsp;&nbsp;</span>Visualize data</a></span><ul class=\"toc-item\"><li><span><a href=\"#Distibution-of-Variables\" data-toc-modified-id=\"Distibution-of-Variables-4.1\"><span class=\"toc-item-num\">4.1&nbsp;&nbsp;</span>Distibution of Variables</a></span></li><li><span><a href=\"#Relationship-between-variables\" data-toc-modified-id=\"Relationship-between-variables-4.2\"><span class=\"toc-item-num\">4.2&nbsp;&nbsp;</span>Relationship between variables</a></span></li></ul></li><li><span><a href=\"#Model\" data-toc-modified-id=\"Model-5\"><span class=\"toc-item-num\">5&nbsp;&nbsp;</span>Model</a></span><ul class=\"toc-item\"><li><span><a href=\"#Model-1:-Mean\" data-toc-modified-id=\"Model-1:-Mean-5.1\"><span class=\"toc-item-num\">5.1&nbsp;&nbsp;</span>Model 1: Mean</a></span></li><li><span><a href=\"#Model-2:-Linear-Regression\" data-toc-modified-id=\"Model-2:-Linear-Regression-5.2\"><span class=\"toc-item-num\">5.2&nbsp;&nbsp;</span>Model 2: Linear Regression</a></span></li></ul></li><li><span><a href=\"#Measuring-the-quality-of-fit:-errors\" data-toc-modified-id=\"Measuring-the-quality-of-fit:-errors-6\"><span class=\"toc-item-num\">6&nbsp;&nbsp;</span>Measuring the quality of fit: errors</a></span><ul class=\"toc-item\"><li><span><a href=\"#Sum-of-squared-errors-and-$R^2$\" data-toc-modified-id=\"Sum-of-squared-errors-and-$R^2$-6.1\"><span class=\"toc-item-num\">6.1&nbsp;&nbsp;</span>Sum of squared errors and $R^2$</a></span><ul class=\"toc-item\"><li><span><a href=\"#Model-1:-Mean\" data-toc-modified-id=\"Model-1:-Mean-6.1.1\"><span class=\"toc-item-num\">6.1.1&nbsp;&nbsp;</span>Model 1: Mean</a></span></li><li><span><a href=\"#Model-2:-Linear-Regression\" data-toc-modified-id=\"Model-2:-Linear-Regression-6.1.2\"><span class=\"toc-item-num\">6.1.2&nbsp;&nbsp;</span>Model 2: Linear Regression</a></span></li></ul></li><li><span><a href=\"#Pearson's-correlation-coefficient\" data-toc-modified-id=\"Pearson's-correlation-coefficient-6.2\"><span class=\"toc-item-num\">6.2&nbsp;&nbsp;</span>Pearson's correlation coefficient</a></span><ul class=\"toc-item\"><li><span><a href=\"#Model-2:-Linear-Regression\" data-toc-modified-id=\"Model-2:-Linear-Regression-6.2.1\"><span class=\"toc-item-num\">6.2.1&nbsp;&nbsp;</span>Model 2: Linear Regression</a></span></li></ul></li><li><span><a href=\"#Mean-squared-error,-variance-and-standard-deviation\" data-toc-modified-id=\"Mean-squared-error,-variance-and-standard-deviation-6.3\"><span class=\"toc-item-num\">6.3&nbsp;&nbsp;</span>Mean squared error, variance and standard deviation</a></span><ul class=\"toc-item\"><li><span><a href=\"#Model-1:-Mean\" data-toc-modified-id=\"Model-1:-Mean-6.3.1\"><span class=\"toc-item-num\">6.3.1&nbsp;&nbsp;</span>Model 1: Mean</a></span></li><li><span><a href=\"#Model-2:-Linear-Regression\" data-toc-modified-id=\"Model-2:-Linear-Regression-6.3.2\"><span class=\"toc-item-num\">6.3.2&nbsp;&nbsp;</span>Model 2: Linear Regression</a></span></li></ul></li><li><span><a href=\"#F-Statistic\" data-toc-modified-id=\"F-Statistic-6.4\"><span class=\"toc-item-num\">6.4&nbsp;&nbsp;</span>F-Statistic</a></span><ul class=\"toc-item\"><li><span><a href=\"#Model-2:-Linear-Regression\" data-toc-modified-id=\"Model-2:-Linear-Regression-6.4.1\"><span class=\"toc-item-num\">6.4.1&nbsp;&nbsp;</span>Model 2: Linear Regression</a></span></li></ul></li><li><span><a href=\"#5.2.5-Standard-error\" data-toc-modified-id=\"5.2.5-Standard-error-6.5\"><span class=\"toc-item-num\">6.5&nbsp;&nbsp;</span>5.2.5 Standard error</a></span><ul class=\"toc-item\"><li><span><a href=\"#Model-1:-Mean\" data-toc-modified-id=\"Model-1:-Mean-6.5.1\"><span class=\"toc-item-num\">6.5.1&nbsp;&nbsp;</span>Model 1: Mean</a></span></li><li><span><a href=\"#Model-2:-Linear-Regression\" data-toc-modified-id=\"Model-2:-Linear-Regression-6.5.2\"><span class=\"toc-item-num\">6.5.2&nbsp;&nbsp;</span>Model 2: Linear Regression</a></span></li></ul></li><li><span><a href=\"#Confidence-interval\" data-toc-modified-id=\"Confidence-interval-6.6\"><span class=\"toc-item-num\">6.6&nbsp;&nbsp;</span>Confidence interval</a></span><ul class=\"toc-item\"><li><span><a href=\"#Model-1:-The-Mean\" data-toc-modified-id=\"Model-1:-The-Mean-6.6.1\"><span class=\"toc-item-num\">6.6.1&nbsp;&nbsp;</span>Model 1: The Mean</a></span></li><li><span><a href=\"#Model-2:-Linear-Regression\" data-toc-modified-id=\"Model-2:-Linear-Regression-6.6.2\"><span class=\"toc-item-num\">6.6.2&nbsp;&nbsp;</span>Model 2: Linear Regression</a></span></li></ul></li><li><span><a href=\"#Confidence-intervals-in-small-samples\" data-toc-modified-id=\"Confidence-intervals-in-small-samples-6.7\"><span class=\"toc-item-num\">6.7&nbsp;&nbsp;</span>Confidence intervals in small samples</a></span></li></ul></li><li><span><a href=\"#Further-measures-for-model-selection\" data-toc-modified-id=\"Further-measures-for-model-selection-7\"><span class=\"toc-item-num\">7&nbsp;&nbsp;</span>Further measures for model selection</a></span><ul class=\"toc-item\"><li><span><a href=\"#Bayesian-information-criterion-(BIC)\" data-toc-modified-id=\"Bayesian-information-criterion-(BIC)-7.1\"><span class=\"toc-item-num\">7.1&nbsp;&nbsp;</span>Bayesian information criterion (BIC)</a></span></li><li><span><a href=\"#Akaike-information-criterion-(AIC)\" data-toc-modified-id=\"Akaike-information-criterion-(AIC)-7.2\"><span class=\"toc-item-num\">7.2&nbsp;&nbsp;</span>Akaike information criterion (AIC)</a></span></li></ul></li></ul></div>"
   ]
  },
  {
   "cell_type": "markdown",
   "metadata": {},
   "source": [
    "# Linear regression and the quality of fit\n",
    "\n",
    "In this application we cover linear regression - the fundamental starting point for all regression methods - and how to evaluate the quality of fit of a regression model. Therefore, we quantify the extent to which the predicted outcome value for a given observation is close to the true outcome value for that observation. In the regression setting, the most commonly-used measure is the mean squared error (MSE), which we will cover in detail.\n",
    "\n",
    "One of the simplest models we use in statistics is the **mean**. It is a (simple) model because it represents a summary of data. Therefore, we use the mean as a baseline model and compare the quality of fit between the mean and a simple linear regression model with only one predictor. In our application, we use a sample of 20 adult women from whom we obtained their height and the average height of their parents (height_parents).\n",
    "\n",
    "Data description (n = 20, p = 5); Variables: name, unique identification number (id), height, average height of parents (height_parents), gender.\n",
    "\n",
    "---\n",
    "\n",
    "*Source*\n",
    "\n",
    "*The statistical explanations in this tutorial are mainly based on Field (2018).*\n",
    "\n",
    "Field, A. (2018). Discovering statistics using IBM SPSS statistics. Thousand Oaks, CA.\n",
    "\n",
    "---"
   ]
  },
  {
   "cell_type": "markdown",
   "metadata": {},
   "source": [
    "## Import data"
   ]
  },
  {
   "cell_type": "code",
   "execution_count": 2,
   "metadata": {
    "scrolled": true
   },
   "outputs": [],
   "source": [
    "# Instead of importing data, we will create our own data\n",
    "df = pd.DataFrame({ 'name': pd.Categorical([ \"Stefanie\", \"Petra\", \"Stefanie\", \n",
    "                                             \"Manuela\", \"Nadine\", \"Sophia\",  \n",
    "                                             \"Ellen\", \"Emilia\", \"Lina\", \n",
    "                                             \"Marie\", \"Lena\", \"Mila\",    \n",
    "                                             \"Ida\", \"Ella\", \"Pia\", \n",
    "                                             \"Sarah \", \"Lia\", \"Lotta\", \n",
    "                                             \"Emma\", \"Lina\"]),\n",
    "                       'id': pd.Categorical([\"1\", \"2\", \"3\", \"4\", \"5\", \"6\",  \n",
    "                                             \"7\", \"8\", \"9\", \"10\", \"11\", \"12\",    \n",
    "                                             \"13\", \"14\", \"15\", \"16 \", \"17\", \"18\", \n",
    "                                             \"19\", \"20\"]),\n",
    "                          'height': np.array([162, 163, 163, 164, 164, 164, 164, 165, \n",
    "                                              165, 165, 165, 165, 165, 166, 166, 166,\n",
    "                                              166, 167, 167, 168],dtype='int32'),\n",
    "                  'height_parents': np.array([161, 163, 163, 165, 163, 164, 164, 165, \n",
    "                                              165, 165, 166, 167, 165, 166, 166, 166,\n",
    "                                              166, 166, 167, 168],dtype='int32'),\n",
    "                                    'gender': 'female' })"
   ]
  },
  {
   "cell_type": "markdown",
   "metadata": {},
   "source": [
    "##  Tidying data"
   ]
  },
  {
   "cell_type": "markdown",
   "metadata": {},
   "source": [
    "###  Data inspection"
   ]
  },
  {
   "cell_type": "markdown",
   "metadata": {},
   "source": [
    "First of all, let's take a look at the variables (columns) in the data set."
   ]
  },
  {
   "cell_type": "code",
   "execution_count": 3,
   "metadata": {},
   "outputs": [
    {
     "data": {
      "text/plain": [
       "Index(['name', 'id', 'height', 'height_parents', 'gender'], dtype='object')"
      ]
     },
     "execution_count": 3,
     "metadata": {},
     "output_type": "execute_result"
    }
   ],
   "source": [
    "# show all variables in the data set\n",
    "df.columns"
   ]
  },
  {
   "cell_type": "code",
   "execution_count": 4,
   "metadata": {
    "scrolled": false
   },
   "outputs": [
    {
     "data": {
      "text/html": [
       "<div>\n",
       "<style scoped>\n",
       "    .dataframe tbody tr th:only-of-type {\n",
       "        vertical-align: middle;\n",
       "    }\n",
       "\n",
       "    .dataframe tbody tr th {\n",
       "        vertical-align: top;\n",
       "    }\n",
       "\n",
       "    .dataframe thead th {\n",
       "        text-align: right;\n",
       "    }\n",
       "</style>\n",
       "<table border=\"1\" class=\"dataframe\">\n",
       "  <thead>\n",
       "    <tr style=\"text-align: right;\">\n",
       "      <th></th>\n",
       "      <th>name</th>\n",
       "      <th>id</th>\n",
       "      <th>height</th>\n",
       "      <th>height_parents</th>\n",
       "      <th>gender</th>\n",
       "    </tr>\n",
       "  </thead>\n",
       "  <tbody>\n",
       "    <tr>\n",
       "      <th>0</th>\n",
       "      <td>Stefanie</td>\n",
       "      <td>1</td>\n",
       "      <td>162</td>\n",
       "      <td>161</td>\n",
       "      <td>female</td>\n",
       "    </tr>\n",
       "    <tr>\n",
       "      <th>1</th>\n",
       "      <td>Petra</td>\n",
       "      <td>2</td>\n",
       "      <td>163</td>\n",
       "      <td>163</td>\n",
       "      <td>female</td>\n",
       "    </tr>\n",
       "    <tr>\n",
       "      <th>2</th>\n",
       "      <td>Stefanie</td>\n",
       "      <td>3</td>\n",
       "      <td>163</td>\n",
       "      <td>163</td>\n",
       "      <td>female</td>\n",
       "    </tr>\n",
       "    <tr>\n",
       "      <th>3</th>\n",
       "      <td>Manuela</td>\n",
       "      <td>4</td>\n",
       "      <td>164</td>\n",
       "      <td>165</td>\n",
       "      <td>female</td>\n",
       "    </tr>\n",
       "    <tr>\n",
       "      <th>4</th>\n",
       "      <td>Nadine</td>\n",
       "      <td>5</td>\n",
       "      <td>164</td>\n",
       "      <td>163</td>\n",
       "      <td>female</td>\n",
       "    </tr>\n",
       "    <tr>\n",
       "      <th>5</th>\n",
       "      <td>Sophia</td>\n",
       "      <td>6</td>\n",
       "      <td>164</td>\n",
       "      <td>164</td>\n",
       "      <td>female</td>\n",
       "    </tr>\n",
       "    <tr>\n",
       "      <th>6</th>\n",
       "      <td>Ellen</td>\n",
       "      <td>7</td>\n",
       "      <td>164</td>\n",
       "      <td>164</td>\n",
       "      <td>female</td>\n",
       "    </tr>\n",
       "    <tr>\n",
       "      <th>7</th>\n",
       "      <td>Emilia</td>\n",
       "      <td>8</td>\n",
       "      <td>165</td>\n",
       "      <td>165</td>\n",
       "      <td>female</td>\n",
       "    </tr>\n",
       "    <tr>\n",
       "      <th>8</th>\n",
       "      <td>Lina</td>\n",
       "      <td>9</td>\n",
       "      <td>165</td>\n",
       "      <td>165</td>\n",
       "      <td>female</td>\n",
       "    </tr>\n",
       "    <tr>\n",
       "      <th>9</th>\n",
       "      <td>Marie</td>\n",
       "      <td>10</td>\n",
       "      <td>165</td>\n",
       "      <td>165</td>\n",
       "      <td>female</td>\n",
       "    </tr>\n",
       "  </tbody>\n",
       "</table>\n",
       "</div>"
      ],
      "text/plain": [
       "       name  id  height  height_parents  gender\n",
       "0  Stefanie   1     162             161  female\n",
       "1     Petra   2     163             163  female\n",
       "2  Stefanie   3     163             163  female\n",
       "3   Manuela   4     164             165  female\n",
       "4    Nadine   5     164             163  female\n",
       "5    Sophia   6     164             164  female\n",
       "6     Ellen   7     164             164  female\n",
       "7    Emilia   8     165             165  female\n",
       "8      Lina   9     165             165  female\n",
       "9     Marie  10     165             165  female"
      ]
     },
     "execution_count": 4,
     "metadata": {},
     "output_type": "execute_result"
    }
   ],
   "source": [
    "# show the first 5 rows (i.e. head of the DataFrame)\n",
    "df.head(10)"
   ]
  },
  {
   "cell_type": "code",
   "execution_count": 6,
   "metadata": {},
   "outputs": [
    {
     "data": {
      "text/plain": [
       "(20, 5)"
      ]
     },
     "execution_count": 6,
     "metadata": {},
     "output_type": "execute_result"
    }
   ],
   "source": [
    "# data shape\n",
    "df.shape"
   ]
  },
  {
   "cell_type": "code",
   "execution_count": 7,
   "metadata": {},
   "outputs": [
    {
     "name": "stdout",
     "output_type": "stream",
     "text": [
      "IDs: 20\n",
      "Unique IDs: 20\n"
     ]
    }
   ],
   "source": [
    "# check for duplicates and print results (if the two numbers match, we have no duplicates)\n",
    "# show the lenght of the variable id (i.e. the number of observations)\n",
    "print(f'IDs: {len(df[\"id\"])}')\n",
    "# count the number of individual id's\n",
    "print(f'Unique IDs: {len(df[\"id\"].value_counts())}')"
   ]
  },
  {
   "cell_type": "code",
   "execution_count": 8,
   "metadata": {},
   "outputs": [],
   "source": [
    "# we don't need the variable gender \n",
    "df = df.drop('gender', axis=1)"
   ]
  },
  {
   "cell_type": "code",
   "execution_count": 9,
   "metadata": {
    "scrolled": true
   },
   "outputs": [
    {
     "name": "stdout",
     "output_type": "stream",
     "text": [
      "<class 'pandas.core.frame.DataFrame'>\n",
      "RangeIndex: 20 entries, 0 to 19\n",
      "Data columns (total 4 columns):\n",
      " #   Column          Non-Null Count  Dtype   \n",
      "---  ------          --------------  -----   \n",
      " 0   name            20 non-null     category\n",
      " 1   id              20 non-null     category\n",
      " 2   height          20 non-null     int32   \n",
      " 3   height_parents  20 non-null     int32   \n",
      "dtypes: category(2), int32(2)\n",
      "memory usage: 1.7 KB\n"
     ]
    }
   ],
   "source": [
    "# data overview (with meta data)\n",
    "df.info()"
   ]
  },
  {
   "cell_type": "markdown",
   "metadata": {},
   "source": [
    "### Handle missing values"
   ]
  },
  {
   "cell_type": "code",
   "execution_count": 10,
   "metadata": {
    "scrolled": true
   },
   "outputs": [
    {
     "data": {
      "image/png": "[encoded data removed]",
      "text/plain": [
       "<Figure size 432x288 with 1 Axes>"
      ]
     },
     "metadata": {},
     "output_type": "display_data"
    }
   ],
   "source": [
    "# show missing values (missing values - if present - will be displayed in yellow )\n",
    "sns.heatmap(df.isnull(),yticklabels=False,cbar=False,cmap='viridis');"
   ]
  },
  {
   "cell_type": "markdown",
   "metadata": {},
   "source": [
    "We can also check the column-wise distribution of null values:"
   ]
  },
  {
   "cell_type": "code",
   "execution_count": 11,
   "metadata": {},
   "outputs": [
    {
     "name": "stdout",
     "output_type": "stream",
     "text": [
      "name              0\n",
      "id                0\n",
      "height            0\n",
      "height_parents    0\n",
      "dtype: int64\n"
     ]
    }
   ],
   "source": [
    "print(df.isnull().sum())"
   ]
  },
  {
   "cell_type": "markdown",
   "metadata": {},
   "source": [
    "## Transform data"
   ]
  },
  {
   "cell_type": "markdown",
   "metadata": {},
   "source": [
    "###  Descriptive statistics"
   ]
  },
  {
   "cell_type": "markdown",
   "metadata": {},
   "source": [
    "#### Measures of central tendency"
   ]
  },
  {
   "cell_type": "markdown",
   "metadata": {},
   "source": [
    "First of all we obtain some common statistics per variable."
   ]
  },
  {
   "cell_type": "code",
   "execution_count": 12,
   "metadata": {},
   "outputs": [
    {
     "data": {
      "text/plain": [
       "0    165\n",
       "dtype: int32"
      ]
     },
     "execution_count": 12,
     "metadata": {},
     "output_type": "execute_result"
    }
   ],
   "source": [
    "# mode\n",
    "df['height'].mode()"
   ]
  },
  {
   "cell_type": "code",
   "execution_count": 13,
   "metadata": {},
   "outputs": [
    {
     "name": "stdout",
     "output_type": "stream",
     "text": [
      "The mean: 165.0\n",
      "The median: 165.0\n"
     ]
    }
   ],
   "source": [
    "# calculate mean\n",
    "print(f'The mean: {round(df[\"height\"].mean(),2)}')\n",
    "# calculate median\n",
    "print(f'The median: {df[\"height\"].median()}')"
   ]
  },
  {
   "cell_type": "markdown",
   "metadata": {},
   "source": [
    "#### Measures of dispersion "
   ]
  },
  {
   "cell_type": "code",
   "execution_count": 14,
   "metadata": {},
   "outputs": [
    {
     "data": {
      "text/plain": [
       "0.25    164.0\n",
       "0.50    165.0\n",
       "0.75    166.0\n",
       "Name: height, dtype: float64"
      ]
     },
     "execution_count": 14,
     "metadata": {},
     "output_type": "execute_result"
    }
   ],
   "source": [
    "# quantiles\n",
    "df['height'].quantile([.25, .5, .75])"
   ]
  },
  {
   "cell_type": "code",
   "execution_count": 15,
   "metadata": {},
   "outputs": [
    {
     "data": {
      "text/plain": [
       "6"
      ]
     },
     "execution_count": 15,
     "metadata": {},
     "output_type": "execute_result"
    }
   ],
   "source": [
    "# Range\n",
    "df['height'].max() - df['height'].min()"
   ]
  },
  {
   "cell_type": "code",
   "execution_count": 16,
   "metadata": {},
   "outputs": [
    {
     "data": {
      "text/plain": [
       "1.49"
      ]
     },
     "execution_count": 16,
     "metadata": {},
     "output_type": "execute_result"
    }
   ],
   "source": [
    "# standard deviation\n",
    "round(df['height'].std(),2)"
   ]
  },
  {
   "cell_type": "markdown",
   "metadata": {},
   "source": [
    "#### Summary statistics"
   ]
  },
  {
   "cell_type": "code",
   "execution_count": 17,
   "metadata": {},
   "outputs": [
    {
     "data": {
      "text/html": [
       "<div>\n",
       "<style scoped>\n",
       "    .dataframe tbody tr th:only-of-type {\n",
       "        vertical-align: middle;\n",
       "    }\n",
       "\n",
       "    .dataframe tbody tr th {\n",
       "        vertical-align: top;\n",
       "    }\n",
       "\n",
       "    .dataframe thead th {\n",
       "        text-align: right;\n",
       "    }\n",
       "</style>\n",
       "<table border=\"1\" class=\"dataframe\">\n",
       "  <thead>\n",
       "    <tr style=\"text-align: right;\">\n",
       "      <th></th>\n",
       "      <th>height</th>\n",
       "      <th>height_parents</th>\n",
       "    </tr>\n",
       "  </thead>\n",
       "  <tbody>\n",
       "    <tr>\n",
       "      <th>count</th>\n",
       "      <td>20.00</td>\n",
       "      <td>20.00</td>\n",
       "    </tr>\n",
       "    <tr>\n",
       "      <th>mean</th>\n",
       "      <td>165.00</td>\n",
       "      <td>165.05</td>\n",
       "    </tr>\n",
       "    <tr>\n",
       "      <th>std</th>\n",
       "      <td>1.49</td>\n",
       "      <td>1.67</td>\n",
       "    </tr>\n",
       "    <tr>\n",
       "      <th>min</th>\n",
       "      <td>162.00</td>\n",
       "      <td>161.00</td>\n",
       "    </tr>\n",
       "    <tr>\n",
       "      <th>25%</th>\n",
       "      <td>164.00</td>\n",
       "      <td>164.00</td>\n",
       "    </tr>\n",
       "    <tr>\n",
       "      <th>50%</th>\n",
       "      <td>165.00</td>\n",
       "      <td>165.00</td>\n",
       "    </tr>\n",
       "    <tr>\n",
       "      <th>75%</th>\n",
       "      <td>166.00</td>\n",
       "      <td>166.00</td>\n",
       "    </tr>\n",
       "    <tr>\n",
       "      <th>max</th>\n",
       "      <td>168.00</td>\n",
       "      <td>168.00</td>\n",
       "    </tr>\n",
       "  </tbody>\n",
       "</table>\n",
       "</div>"
      ],
      "text/plain": [
       "       height  height_parents\n",
       "count   20.00           20.00\n",
       "mean   165.00          165.05\n",
       "std      1.49            1.67\n",
       "min    162.00          161.00\n",
       "25%    164.00          164.00\n",
       "50%    165.00          165.00\n",
       "75%    166.00          166.00\n",
       "max    168.00          168.00"
      ]
     },
     "execution_count": 17,
     "metadata": {},
     "output_type": "execute_result"
    }
   ],
   "source": [
    "# summary statistics for all numerical columns\n",
    "round(df.describe(),2)"
   ]
  },
  {
   "cell_type": "code",
   "execution_count": 18,
   "metadata": {},
   "outputs": [
    {
     "data": {
      "text/html": [
       "<div>\n",
       "<style scoped>\n",
       "    .dataframe tbody tr th:only-of-type {\n",
       "        vertical-align: middle;\n",
       "    }\n",
       "\n",
       "    .dataframe tbody tr th {\n",
       "        vertical-align: top;\n",
       "    }\n",
       "\n",
       "    .dataframe thead th {\n",
       "        text-align: right;\n",
       "    }\n",
       "</style>\n",
       "<table border=\"1\" class=\"dataframe\">\n",
       "  <thead>\n",
       "    <tr style=\"text-align: right;\">\n",
       "      <th></th>\n",
       "      <th>name</th>\n",
       "      <th>id</th>\n",
       "    </tr>\n",
       "  </thead>\n",
       "  <tbody>\n",
       "    <tr>\n",
       "      <th>count</th>\n",
       "      <td>20</td>\n",
       "      <td>20</td>\n",
       "    </tr>\n",
       "    <tr>\n",
       "      <th>unique</th>\n",
       "      <td>18</td>\n",
       "      <td>20</td>\n",
       "    </tr>\n",
       "    <tr>\n",
       "      <th>top</th>\n",
       "      <td>Stefanie</td>\n",
       "      <td>1</td>\n",
       "    </tr>\n",
       "    <tr>\n",
       "      <th>freq</th>\n",
       "      <td>2</td>\n",
       "      <td>1</td>\n",
       "    </tr>\n",
       "  </tbody>\n",
       "</table>\n",
       "</div>"
      ],
      "text/plain": [
       "            name  id\n",
       "count         20  20\n",
       "unique        18  20\n",
       "top     Stefanie   1\n",
       "freq           2   1"
      ]
     },
     "execution_count": 18,
     "metadata": {},
     "output_type": "execute_result"
    }
   ],
   "source": [
    "# summary statistics for all categorical columns\n",
    "df.describe(include=['category'])"
   ]
  },
  {
   "cell_type": "markdown",
   "metadata": {},
   "source": [
    "## Visualize data"
   ]
  },
  {
   "cell_type": "markdown",
   "metadata": {},
   "source": [
    "### Distibution of Variables"
   ]
  },
  {
   "cell_type": "code",
   "execution_count": 19,
   "metadata": {
    "scrolled": true
   },
   "outputs": [
    {
     "name": "stderr",
     "output_type": "stream",
     "text": [
      "C:\\Anaconda\\envs\\myenv\\lib\\site-packages\\seaborn\\distributions.py:2551: FutureWarning: `distplot` is a deprecated function and will be removed in a future version. Please adapt your code to use either `displot` (a figure-level function with similar flexibility) or `histplot` (an axes-level function for histograms).\n",
      "  warnings.warn(msg, FutureWarning)\n"
     ]
    },
    {
     "data": {
      "image/png": "[encoded data removed]",
      "text/plain": [
       "<Figure size 432x288 with 1 Axes>"
      ]
     },
     "metadata": {},
     "output_type": "display_data"
    }
   ],
   "source": [
    "# histogram with seaborn\n",
    "sns.distplot(df.height);"
   ]
  },
  {
   "cell_type": "code",
   "execution_count": 20,
   "metadata": {},
   "outputs": [
    {
     "data": {
      "image/png": "[encoded data removed]",
      "text/plain": [
       "<Figure size 720x360 with 2 Axes>"
      ]
     },
     "metadata": {},
     "output_type": "display_data"
    }
   ],
   "source": [
    "df.hist(bins=5, figsize=(10,5));"
   ]
  },
  {
   "cell_type": "markdown",
   "metadata": {},
   "source": [
    "Another alternative to display the distribution of a continuous variable broken down by a categorical variable is the **boxplot**. A boxplot is a type of visual shorthand for a distribution of values that is popular among statisticians. Each boxplot consists of:\n",
    "\n",
    "A box that stretches from the 25th percentile of the distribution to the 75th percentile, a distance known as the interquartile range (IQR). In the middle of the box is a line that displays the median, i.e. 50th percentile, of the distribution. These three lines give you a sense of the spread of the distribution and whether or not the distribution is symmetric about the median or skewed to one side.\n",
    "\n",
    "Visual points that display observations that fall more than 1.5 times the IQR from either edge of the box. These outlying points are unusual so are plotted individually.\n",
    "\n",
    "A line (or whisker) that extends from each end of the box and goes to the farthest non-outlier point in the distribution."
   ]
  },
  {
   "cell_type": "code",
   "execution_count": 21,
   "metadata": {
    "scrolled": true
   },
   "outputs": [
    {
     "data": {
      "image/png": "[encoded data removed]",
      "text/plain": [
       "<Figure size 432x288 with 1 Axes>"
      ]
     },
     "metadata": {},
     "output_type": "display_data"
    }
   ],
   "source": [
    "# boxplot \n",
    "sns.boxplot(y='height', data=df, palette='winter');"
   ]
  },
  {
   "cell_type": "code",
   "execution_count": 22,
   "metadata": {},
   "outputs": [
    {
     "data": {
      "image/png": "[encoded data removed]",
      "text/plain": [
       "<Figure size 720x720 with 1 Axes>"
      ]
     },
     "metadata": {},
     "output_type": "display_data"
    }
   ],
   "source": [
    "df.boxplot(figsize=(10,10));"
   ]
  },
  {
   "cell_type": "markdown",
   "metadata": {},
   "source": [
    "### Relationship between variables"
   ]
  },
  {
   "cell_type": "code",
   "execution_count": 25,
   "metadata": {},
   "outputs": [
    {
     "data": {
      "text/plain": [
       "<seaborn.axisgrid.JointGrid at 0x21b02d0ff10>"
      ]
     },
     "execution_count": 25,
     "metadata": {},
     "output_type": "execute_result"
    },
    {
     "data": {
      "image/png": "[encoded data removed]",
      "text/plain": [
       "<Figure size 432x432 with 3 Axes>"
      ]
     },
     "metadata": {},
     "output_type": "display_data"
    }
   ],
   "source": [
    "# check relationship with a joint plot\n",
    "sns.jointplot(x=\"height_parents\", y=\"height\", data=df)"
   ]
  },
  {
   "cell_type": "markdown",
   "metadata": {},
   "source": [
    "We can observe a strong relationship between the average height of the parents and the height of their daughter. Hence, it would make sense to use the variable \"height_parents\" as a predictor for the outcome variable \"height\" in a statistical model."
   ]
  },
  {
   "cell_type": "markdown",
   "metadata": {},
   "source": [
    "## Model"
   ]
  },
  {
   "cell_type": "markdown",
   "metadata": {},
   "source": [
    "If we are interested in discovering something about a phenomenon in the real world, we need to collect data to test predictions from our hypotheses about that phenomenon. Testing these hypotheses involves building statistical **models** of the phenomenon of interest.\n",
    "\n",
    "It is important that the model accurately represents the real world, otherwise any conclusions we extrapolate to the real-world will be meaningless. Hence, the statistical model should represent the data collected (the observed data) as closely as possible. \n",
    "\n",
    "$$Outcome_i = (Model) + error_i$$\n",
    "\n",
    "This equation means that the data we observe can be predicted from the model we choose to fit plus some amount of error. There are different terms that basically refer to **error** like **residual**, **deviation** or **deviance**. The degree to which a statistical model represents the data collected is known as the **fit of the model** which is closely related to the error of the model.\n",
    "\n",
    "The ‘model’ in the equation will vary depending on the design of your study, the type of data you have and what it is you’re trying to achieve with your model. Consequently, the model can also vary in its complexity.\n",
    "\n",
    "The important thing is that we can use the model computed in our **sample** to estimate the value in the **population** (which is the value in which we’re interested).\n",
    "\n",
    "# Parameters\n",
    "\n",
    "Statistical models are made up of **variables** and **parameters**. Variables are measured constructs that vary across entities in the sample. In contrast, parameters are not measured and are (usually) constants believed to represent some fundamental truth about the relations between variables in the model.\n",
    "\n",
    "Some examples of parameters with which you already are familiar are: the **mean** and **median** (which estimate the centre of the distribution). We will also cover correlation and regression coefficients (which estimate the relationship between two variables) in other applications.\n",
    "\n",
    "If we’re interested only in summarizing the outcome, as we are when we compute a **mean**, then we won’t have any variables in the model, only a **parameter** (typically called *b*), so we could write our $Outcome_i = (Model) + error_i$ equation as:\n",
    "\n",
    "$Outcome_i = (b) + error_i$\n",
    "\n",
    "---\n",
    "\n",
    "Let's say we would like to compare the **quality of fit** of two models to predict height: the simple mean and a second model in which we use information about the average height of their parents as a predictor in a linear regression model.\n",
    "\n",
    "**Model 1: Mean**\n",
    "  * In the case of the **mean**, the *b* parameter is usually called $\\bar{x}$, which leads to:\n",
    "\n",
    "$height_i = (\\bar{x}) + error_i$\n",
    "  * with\n",
    "\n",
    "$\\bar{x} =  \\frac {\\sum_{i=1}^n x_{i}}{n}$\n",
    "\n",
    "**Model 2: Linear Regression**\n",
    "  * In our second model, we use the variable height of parents as predictor in a linear regression model:\n",
    "\n",
    "$height_i = (b_0 + b_i \\times heightparents_i ) + error_i$\n"
   ]
  },
  {
   "cell_type": "markdown",
   "metadata": {},
   "source": [
    "### Model 1: Mean"
   ]
  },
  {
   "cell_type": "code",
   "execution_count": 26,
   "metadata": {},
   "outputs": [
    {
     "name": "stdout",
     "output_type": "stream",
     "text": [
      "165.0\n"
     ]
    }
   ],
   "source": [
    "# calculate the mean \n",
    "sum_x_i = df.height.sum() \n",
    "n = len(df[\"height\"])\n",
    "# formula for mean\n",
    "x_bar = sum_x_i / n\n",
    "print(x_bar)"
   ]
  },
  {
   "cell_type": "code",
   "execution_count": 27,
   "metadata": {
    "scrolled": true
   },
   "outputs": [
    {
     "data": {
      "text/plain": [
       "165.0"
      ]
     },
     "execution_count": 27,
     "metadata": {},
     "output_type": "execute_result"
    }
   ],
   "source": [
    "# calculate the mean\n",
    "df[\"height\"].mean()"
   ]
  },
  {
   "cell_type": "code",
   "execution_count": 28,
   "metadata": {
    "scrolled": false
   },
   "outputs": [
    {
     "data": {
      "text/html": [
       "<div>\n",
       "<style scoped>\n",
       "    .dataframe tbody tr th:only-of-type {\n",
       "        vertical-align: middle;\n",
       "    }\n",
       "\n",
       "    .dataframe tbody tr th {\n",
       "        vertical-align: top;\n",
       "    }\n",
       "\n",
       "    .dataframe thead th {\n",
       "        text-align: right;\n",
       "    }\n",
       "</style>\n",
       "<table border=\"1\" class=\"dataframe\">\n",
       "  <thead>\n",
       "    <tr style=\"text-align: right;\">\n",
       "      <th></th>\n",
       "      <th>name</th>\n",
       "      <th>id</th>\n",
       "      <th>height</th>\n",
       "      <th>height_parents</th>\n",
       "      <th>average</th>\n",
       "    </tr>\n",
       "  </thead>\n",
       "  <tbody>\n",
       "    <tr>\n",
       "      <th>0</th>\n",
       "      <td>Stefanie</td>\n",
       "      <td>1</td>\n",
       "      <td>162</td>\n",
       "      <td>161</td>\n",
       "      <td>165.0</td>\n",
       "    </tr>\n",
       "    <tr>\n",
       "      <th>1</th>\n",
       "      <td>Petra</td>\n",
       "      <td>2</td>\n",
       "      <td>163</td>\n",
       "      <td>163</td>\n",
       "      <td>165.0</td>\n",
       "    </tr>\n",
       "    <tr>\n",
       "      <th>2</th>\n",
       "      <td>Stefanie</td>\n",
       "      <td>3</td>\n",
       "      <td>163</td>\n",
       "      <td>163</td>\n",
       "      <td>165.0</td>\n",
       "    </tr>\n",
       "    <tr>\n",
       "      <th>3</th>\n",
       "      <td>Manuela</td>\n",
       "      <td>4</td>\n",
       "      <td>164</td>\n",
       "      <td>165</td>\n",
       "      <td>165.0</td>\n",
       "    </tr>\n",
       "    <tr>\n",
       "      <th>4</th>\n",
       "      <td>Nadine</td>\n",
       "      <td>5</td>\n",
       "      <td>164</td>\n",
       "      <td>163</td>\n",
       "      <td>165.0</td>\n",
       "    </tr>\n",
       "  </tbody>\n",
       "</table>\n",
       "</div>"
      ],
      "text/plain": [
       "       name id  height  height_parents  average\n",
       "0  Stefanie  1     162             161    165.0\n",
       "1     Petra  2     163             163    165.0\n",
       "2  Stefanie  3     163             163    165.0\n",
       "3   Manuela  4     164             165    165.0\n",
       "4    Nadine  5     164             163    165.0"
      ]
     },
     "execution_count": 28,
     "metadata": {},
     "output_type": "execute_result"
    }
   ],
   "source": [
    "# add the mean (as \"average\") to our DataFrame\n",
    "df = df.assign(average = df.height.mean())\n",
    "df.head(5)"
   ]
  },
  {
   "cell_type": "code",
   "execution_count": 29,
   "metadata": {},
   "outputs": [
    {
     "data": {
      "image/png": "[encoded data removed]",
      "text/plain": [
       "<Figure size 432x288 with 1 Axes>"
      ]
     },
     "metadata": {},
     "output_type": "display_data"
    }
   ],
   "source": [
    "# create a scatterplot (plt)\n",
    "plt = sns.scatterplot(x=\"id\", y=\"height\",data=df);\n",
    "plt.set(xlabel='ID', ylabel='Height in cm', title='Error of th model');\n",
    "plt.plot([0, 20], [165, 165], linewidth=2, color='r');\n",
    "plt.text(1, 165.2,'mean = 165', rotation=0, color='r');"
   ]
  },
  {
   "cell_type": "markdown",
   "metadata": {},
   "source": [
    "### Model 2: Linear Regression"
   ]
  },
  {
   "cell_type": "code",
   "execution_count": 30,
   "metadata": {},
   "outputs": [],
   "source": [
    "# fit linear model with statsmodels.formula.api (with R-style formulas) \n",
    "lm = smf.ols(formula ='height ~ height_parents', data=df).fit()\n",
    "\n",
    "# add the regression predictions (as \"pred\") to our DataFrame\n",
    "df['pred'] = lm.predict()"
   ]
  },
  {
   "cell_type": "code",
   "execution_count": 31,
   "metadata": {},
   "outputs": [
    {
     "data": {
      "text/html": [
       "<div>\n",
       "<style scoped>\n",
       "    .dataframe tbody tr th:only-of-type {\n",
       "        vertical-align: middle;\n",
       "    }\n",
       "\n",
       "    .dataframe tbody tr th {\n",
       "        vertical-align: top;\n",
       "    }\n",
       "\n",
       "    .dataframe thead th {\n",
       "        text-align: right;\n",
       "    }\n",
       "</style>\n",
       "<table border=\"1\" class=\"dataframe\">\n",
       "  <thead>\n",
       "    <tr style=\"text-align: right;\">\n",
       "      <th></th>\n",
       "      <th>name</th>\n",
       "      <th>id</th>\n",
       "      <th>height</th>\n",
       "      <th>height_parents</th>\n",
       "      <th>average</th>\n",
       "      <th>pred</th>\n",
       "    </tr>\n",
       "  </thead>\n",
       "  <tbody>\n",
       "    <tr>\n",
       "      <th>0</th>\n",
       "      <td>Stefanie</td>\n",
       "      <td>1</td>\n",
       "      <td>162</td>\n",
       "      <td>161</td>\n",
       "      <td>165.0</td>\n",
       "      <td>161.711048</td>\n",
       "    </tr>\n",
       "    <tr>\n",
       "      <th>1</th>\n",
       "      <td>Petra</td>\n",
       "      <td>2</td>\n",
       "      <td>163</td>\n",
       "      <td>163</td>\n",
       "      <td>165.0</td>\n",
       "      <td>163.335222</td>\n",
       "    </tr>\n",
       "    <tr>\n",
       "      <th>2</th>\n",
       "      <td>Stefanie</td>\n",
       "      <td>3</td>\n",
       "      <td>163</td>\n",
       "      <td>163</td>\n",
       "      <td>165.0</td>\n",
       "      <td>163.335222</td>\n",
       "    </tr>\n",
       "    <tr>\n",
       "      <th>3</th>\n",
       "      <td>Manuela</td>\n",
       "      <td>4</td>\n",
       "      <td>164</td>\n",
       "      <td>165</td>\n",
       "      <td>165.0</td>\n",
       "      <td>164.959396</td>\n",
       "    </tr>\n",
       "    <tr>\n",
       "      <th>4</th>\n",
       "      <td>Nadine</td>\n",
       "      <td>5</td>\n",
       "      <td>164</td>\n",
       "      <td>163</td>\n",
       "      <td>165.0</td>\n",
       "      <td>163.335222</td>\n",
       "    </tr>\n",
       "  </tbody>\n",
       "</table>\n",
       "</div>"
      ],
      "text/plain": [
       "       name id  height  height_parents  average        pred\n",
       "0  Stefanie  1     162             161    165.0  161.711048\n",
       "1     Petra  2     163             163    165.0  163.335222\n",
       "2  Stefanie  3     163             163    165.0  163.335222\n",
       "3   Manuela  4     164             165    165.0  164.959396\n",
       "4    Nadine  5     164             163    165.0  163.335222"
      ]
     },
     "execution_count": 31,
     "metadata": {},
     "output_type": "execute_result"
    }
   ],
   "source": [
    "df.head(5)"
   ]
  },
  {
   "cell_type": "code",
   "execution_count": 32,
   "metadata": {},
   "outputs": [
    {
     "data": {
      "text/html": [
       "<table class=\"simpletable\">\n",
       "<caption>OLS Regression Results</caption>\n",
       "<tr>\n",
       "  <th>Dep. Variable:</th>         <td>height</td>      <th>  R-squared:         </th> <td>   0.831</td>\n",
       "</tr>\n",
       "<tr>\n",
       "  <th>Model:</th>                   <td>OLS</td>       <th>  Adj. R-squared:    </th> <td>   0.822</td>\n",
       "</tr>\n",
       "<tr>\n",
       "  <th>Method:</th>             <td>Least Squares</td>  <th>  F-statistic:       </th> <td>   88.78</td>\n",
       "</tr>\n",
       "<tr>\n",
       "  <th>Date:</th>             <td>Fri, 19 Mar 2021</td> <th>  Prob (F-statistic):</th> <td>2.21e-08</td>\n",
       "</tr>\n",
       "<tr>\n",
       "  <th>Time:</th>                 <td>11:21:00</td>     <th>  Log-Likelihood:    </th> <td> -17.995</td>\n",
       "</tr>\n",
       "<tr>\n",
       "  <th>No. Observations:</th>      <td>    20</td>      <th>  AIC:               </th> <td>   39.99</td>\n",
       "</tr>\n",
       "<tr>\n",
       "  <th>Df Residuals:</th>          <td>    18</td>      <th>  BIC:               </th> <td>   41.98</td>\n",
       "</tr>\n",
       "<tr>\n",
       "  <th>Df Model:</th>              <td>     1</td>      <th>                     </th>     <td> </td>   \n",
       "</tr>\n",
       "<tr>\n",
       "  <th>Covariance Type:</th>      <td>nonrobust</td>    <th>                     </th>     <td> </td>   \n",
       "</tr>\n",
       "</table>\n",
       "<table class=\"simpletable\">\n",
       "<tr>\n",
       "         <td></td>           <th>coef</th>     <th>std err</th>      <th>t</th>      <th>P>|t|</th>  <th>[0.025</th>    <th>0.975]</th>  \n",
       "</tr>\n",
       "<tr>\n",
       "  <th>Intercept</th>      <td>   30.9651</td> <td>   14.226</td> <td>    2.177</td> <td> 0.043</td> <td>    1.077</td> <td>   60.853</td>\n",
       "</tr>\n",
       "<tr>\n",
       "  <th>height_parents</th> <td>    0.8121</td> <td>    0.086</td> <td>    9.422</td> <td> 0.000</td> <td>    0.631</td> <td>    0.993</td>\n",
       "</tr>\n",
       "</table>\n",
       "<table class=\"simpletable\">\n",
       "<tr>\n",
       "  <th>Omnibus:</th>       <td> 4.700</td> <th>  Durbin-Watson:     </th> <td>   1.384</td>\n",
       "</tr>\n",
       "<tr>\n",
       "  <th>Prob(Omnibus):</th> <td> 0.095</td> <th>  Jarque-Bera (JB):  </th> <td>   2.492</td>\n",
       "</tr>\n",
       "<tr>\n",
       "  <th>Skew:</th>          <td>-0.684</td> <th>  Prob(JB):          </th> <td>   0.288</td>\n",
       "</tr>\n",
       "<tr>\n",
       "  <th>Kurtosis:</th>      <td> 4.058</td> <th>  Cond. No.          </th> <td>1.67e+04</td>\n",
       "</tr>\n",
       "</table><br/><br/>Notes:<br/>[1] Standard Errors assume that the covariance matrix of the errors is correctly specified.<br/>[2] The condition number is large, 1.67e+04. This might indicate that there are<br/>strong multicollinearity or other numerical problems."
      ],
      "text/plain": [
       "<class 'statsmodels.iolib.summary.Summary'>\n",
       "\"\"\"\n",
       "                            OLS Regression Results                            \n",
       "==============================================================================\n",
       "Dep. Variable:                 height   R-squared:                       0.831\n",
       "Model:                            OLS   Adj. R-squared:                  0.822\n",
       "Method:                 Least Squares   F-statistic:                     88.78\n",
       "Date:                Fri, 19 Mar 2021   Prob (F-statistic):           2.21e-08\n",
       "Time:                        11:21:00   Log-Likelihood:                -17.995\n",
       "No. Observations:                  20   AIC:                             39.99\n",
       "Df Residuals:                      18   BIC:                             41.98\n",
       "Df Model:                           1                                         \n",
       "Covariance Type:            nonrobust                                         \n",
       "==================================================================================\n",
       "                     coef    std err          t      P>|t|      [0.025      0.975]\n",
       "----------------------------------------------------------------------------------\n",
       "Intercept         30.9651     14.226      2.177      0.043       1.077      60.853\n",
       "height_parents     0.8121      0.086      9.422      0.000       0.631       0.993\n",
       "==============================================================================\n",
       "Omnibus:                        4.700   Durbin-Watson:                   1.384\n",
       "Prob(Omnibus):                  0.095   Jarque-Bera (JB):                2.492\n",
       "Skew:                          -0.684   Prob(JB):                        0.288\n",
       "Kurtosis:                       4.058   Cond. No.                     1.67e+04\n",
       "==============================================================================\n",
       "\n",
       "Notes:\n",
       "[1] Standard Errors assume that the covariance matrix of the errors is correctly specified.\n",
       "[2] The condition number is large, 1.67e+04. This might indicate that there are\n",
       "strong multicollinearity or other numerical problems.\n",
       "\"\"\""
      ]
     },
     "execution_count": 32,
     "metadata": {},
     "output_type": "execute_result"
    }
   ],
   "source": [
    "lm.summary()"
   ]
  },
  {
   "cell_type": "code",
   "execution_count": 33,
   "metadata": {},
   "outputs": [
    {
     "name": "stdout",
     "output_type": "stream",
     "text": [
      "193.38510000000002\n"
     ]
    }
   ],
   "source": [
    "# This is just a reminder of how the regression works. We make a prediction for X=200\n",
    "b_0 = 30.9651\n",
    "b_1 = 0.8121\n",
    "X = 200\n",
    "Vorhersage = b_0 + b_1*(X)\n",
    "print(Vorhersage)"
   ]
  },
  {
   "cell_type": "code",
   "execution_count": 34,
   "metadata": {
    "scrolled": true
   },
   "outputs": [
    {
     "data": {
      "text/html": [
       "<div>\n",
       "<style scoped>\n",
       "    .dataframe tbody tr th:only-of-type {\n",
       "        vertical-align: middle;\n",
       "    }\n",
       "\n",
       "    .dataframe tbody tr th {\n",
       "        vertical-align: top;\n",
       "    }\n",
       "\n",
       "    .dataframe thead th {\n",
       "        text-align: right;\n",
       "    }\n",
       "</style>\n",
       "<table border=\"1\" class=\"dataframe\">\n",
       "  <thead>\n",
       "    <tr style=\"text-align: right;\">\n",
       "      <th></th>\n",
       "      <th>name</th>\n",
       "      <th>id</th>\n",
       "      <th>height</th>\n",
       "      <th>height_parents</th>\n",
       "      <th>average</th>\n",
       "      <th>pred</th>\n",
       "    </tr>\n",
       "  </thead>\n",
       "  <tbody>\n",
       "    <tr>\n",
       "      <th>0</th>\n",
       "      <td>Stefanie</td>\n",
       "      <td>1</td>\n",
       "      <td>162</td>\n",
       "      <td>161</td>\n",
       "      <td>165.0</td>\n",
       "      <td>161.711048</td>\n",
       "    </tr>\n",
       "    <tr>\n",
       "      <th>1</th>\n",
       "      <td>Petra</td>\n",
       "      <td>2</td>\n",
       "      <td>163</td>\n",
       "      <td>163</td>\n",
       "      <td>165.0</td>\n",
       "      <td>163.335222</td>\n",
       "    </tr>\n",
       "    <tr>\n",
       "      <th>2</th>\n",
       "      <td>Stefanie</td>\n",
       "      <td>3</td>\n",
       "      <td>163</td>\n",
       "      <td>163</td>\n",
       "      <td>165.0</td>\n",
       "      <td>163.335222</td>\n",
       "    </tr>\n",
       "    <tr>\n",
       "      <th>3</th>\n",
       "      <td>Manuela</td>\n",
       "      <td>4</td>\n",
       "      <td>164</td>\n",
       "      <td>165</td>\n",
       "      <td>165.0</td>\n",
       "      <td>164.959396</td>\n",
       "    </tr>\n",
       "    <tr>\n",
       "      <th>4</th>\n",
       "      <td>Nadine</td>\n",
       "      <td>5</td>\n",
       "      <td>164</td>\n",
       "      <td>163</td>\n",
       "      <td>165.0</td>\n",
       "      <td>163.335222</td>\n",
       "    </tr>\n",
       "  </tbody>\n",
       "</table>\n",
       "</div>"
      ],
      "text/plain": [
       "       name id  height  height_parents  average        pred\n",
       "0  Stefanie  1     162             161    165.0  161.711048\n",
       "1     Petra  2     163             163    165.0  163.335222\n",
       "2  Stefanie  3     163             163    165.0  163.335222\n",
       "3   Manuela  4     164             165    165.0  164.959396\n",
       "4    Nadine  5     164             163    165.0  163.335222"
      ]
     },
     "execution_count": 34,
     "metadata": {},
     "output_type": "execute_result"
    }
   ],
   "source": [
    "df.head(5)"
   ]
  },
  {
   "cell_type": "markdown",
   "metadata": {},
   "source": [
    "We use [Seaborne's lmplot](https://seaborn.pydata.org/generated/seaborn.lmplot.html) to plot the regression line:"
   ]
  },
  {
   "cell_type": "code",
   "execution_count": 35,
   "metadata": {},
   "outputs": [
    {
     "data": {
      "image/png": "[encoded data removed]",
      "text/plain": [
       "<Figure size 360x360 with 1 Axes>"
      ]
     },
     "metadata": {},
     "output_type": "display_data"
    }
   ],
   "source": [
    "# Plot regression line \n",
    "sns.lmplot(x='height_parents', y='height', data=df, line_kws={'color':'red'}, height=5, ci=None, );"
   ]
  },
  {
   "cell_type": "code",
   "execution_count": 34,
   "metadata": {},
   "outputs": [
    {
     "data": {
      "text/html": [
       "<table class=\"simpletable\">\n",
       "<caption>OLS Regression Results</caption>\n",
       "<tr>\n",
       "  <th>Dep. Variable:</th>         <td>height</td>      <th>  R-squared:         </th> <td>   0.831</td>\n",
       "</tr>\n",
       "<tr>\n",
       "  <th>Model:</th>                   <td>OLS</td>       <th>  Adj. R-squared:    </th> <td>   0.822</td>\n",
       "</tr>\n",
       "<tr>\n",
       "  <th>Method:</th>             <td>Least Squares</td>  <th>  F-statistic:       </th> <td>   88.78</td>\n",
       "</tr>\n",
       "<tr>\n",
       "  <th>Date:</th>             <td>Mon, 13 May 2019</td> <th>  Prob (F-statistic):</th> <td>2.21e-08</td>\n",
       "</tr>\n",
       "<tr>\n",
       "  <th>Time:</th>                 <td>11:20:24</td>     <th>  Log-Likelihood:    </th> <td> -17.995</td>\n",
       "</tr>\n",
       "<tr>\n",
       "  <th>No. Observations:</th>      <td>    20</td>      <th>  AIC:               </th> <td>   39.99</td>\n",
       "</tr>\n",
       "<tr>\n",
       "  <th>Df Residuals:</th>          <td>    18</td>      <th>  BIC:               </th> <td>   41.98</td>\n",
       "</tr>\n",
       "<tr>\n",
       "  <th>Df Model:</th>              <td>     1</td>      <th>                     </th>     <td> </td>   \n",
       "</tr>\n",
       "<tr>\n",
       "  <th>Covariance Type:</th>      <td>nonrobust</td>    <th>                     </th>     <td> </td>   \n",
       "</tr>\n",
       "</table>\n",
       "<table class=\"simpletable\">\n",
       "<tr>\n",
       "         <td></td>           <th>coef</th>     <th>std err</th>      <th>t</th>      <th>P>|t|</th>  <th>[0.025</th>    <th>0.975]</th>  \n",
       "</tr>\n",
       "<tr>\n",
       "  <th>Intercept</th>      <td>   30.9651</td> <td>   14.226</td> <td>    2.177</td> <td> 0.043</td> <td>    1.077</td> <td>   60.853</td>\n",
       "</tr>\n",
       "<tr>\n",
       "  <th>height_parents</th> <td>    0.8121</td> <td>    0.086</td> <td>    9.422</td> <td> 0.000</td> <td>    0.631</td> <td>    0.993</td>\n",
       "</tr>\n",
       "</table>\n",
       "<table class=\"simpletable\">\n",
       "<tr>\n",
       "  <th>Omnibus:</th>       <td> 4.700</td> <th>  Durbin-Watson:     </th> <td>   1.384</td>\n",
       "</tr>\n",
       "<tr>\n",
       "  <th>Prob(Omnibus):</th> <td> 0.095</td> <th>  Jarque-Bera (JB):  </th> <td>   2.492</td>\n",
       "</tr>\n",
       "<tr>\n",
       "  <th>Skew:</th>          <td>-0.684</td> <th>  Prob(JB):          </th> <td>   0.288</td>\n",
       "</tr>\n",
       "<tr>\n",
       "  <th>Kurtosis:</th>      <td> 4.058</td> <th>  Cond. No.          </th> <td>1.67e+04</td>\n",
       "</tr>\n",
       "</table><br/><br/>Warnings:<br/>[1] Standard Errors assume that the covariance matrix of the errors is correctly specified.<br/>[2] The condition number is large, 1.67e+04. This might indicate that there are<br/>strong multicollinearity or other numerical problems."
      ],
      "text/plain": [
       "<class 'statsmodels.iolib.summary.Summary'>\n",
       "\"\"\"\n",
       "                            OLS Regression Results                            \n",
       "==============================================================================\n",
       "Dep. Variable:                 height   R-squared:                       0.831\n",
       "Model:                            OLS   Adj. R-squared:                  0.822\n",
       "Method:                 Least Squares   F-statistic:                     88.78\n",
       "Date:                Mon, 13 May 2019   Prob (F-statistic):           2.21e-08\n",
       "Time:                        11:20:24   Log-Likelihood:                -17.995\n",
       "No. Observations:                  20   AIC:                             39.99\n",
       "Df Residuals:                      18   BIC:                             41.98\n",
       "Df Model:                           1                                         \n",
       "Covariance Type:            nonrobust                                         \n",
       "==================================================================================\n",
       "                     coef    std err          t      P>|t|      [0.025      0.975]\n",
       "----------------------------------------------------------------------------------\n",
       "Intercept         30.9651     14.226      2.177      0.043       1.077      60.853\n",
       "height_parents     0.8121      0.086      9.422      0.000       0.631       0.993\n",
       "==============================================================================\n",
       "Omnibus:                        4.700   Durbin-Watson:                   1.384\n",
       "Prob(Omnibus):                  0.095   Jarque-Bera (JB):                2.492\n",
       "Skew:                          -0.684   Prob(JB):                        0.288\n",
       "Kurtosis:                       4.058   Cond. No.                     1.67e+04\n",
       "==============================================================================\n",
       "\n",
       "Warnings:\n",
       "[1] Standard Errors assume that the covariance matrix of the errors is correctly specified.\n",
       "[2] The condition number is large, 1.67e+04. This might indicate that there are\n",
       "strong multicollinearity or other numerical problems.\n",
       "\"\"\""
      ]
     },
     "execution_count": 34,
     "metadata": {},
     "output_type": "execute_result"
    }
   ],
   "source": [
    "# Regression results overview\n",
    "lm.summary()"
   ]
  },
  {
   "cell_type": "markdown",
   "metadata": {},
   "source": [
    "## Measuring the quality of fit: errors\n",
    "\n",
    "In order to evaluate the performance of a statistical model on a given data set, we need some way to measure how well its predictions actually match the observed data. That is, we need to quantify the extent to which the predicted response value for a given observation is close to\n",
    "the true response value for that observation. \n",
    "\n",
    "With most statistical models we can determine whether the model represents the data well by looking at how different the scores we observed in the data are from the values that the model predicts.\n",
    "\n",
    "$Outcome_i = (b) + error_i$, hence\n",
    "\n",
    "$error_i = Outcome_i - (b)$\n",
    "\n",
    "In other words, the error for a particular entity is the score predicted by the model for that entity subtracted from the corresponding observed score.\n",
    "\n",
    "\n",
    "### Sum of squared errors and $R^2$\n",
    "\n",
    "Errors cancel out because some are positive and others negative. Therefore, we square each deviation. If we add these squared deviations we get the **Sum of Squared Errors (SS)**.\n",
    "\n",
    "$ SS = \\sum_{i=1}^n (outcome_i - model_i)^2$ \n",
    "\n",
    "Using the **mean** of the outcome as a baseline model, we can calculate the difference between the observed values and the values predicted by the mean. We square these differences to give us the sum of squared differences. This sum of squared differences is known as the **total sum of squares** (denoted by $SS_T$) and it represents how good the mean is as a model of the observed outcome scores\n",
    "\n",
    "$SS_T = \\sum_{i=1}^n (observed_i - mean)^2$\n",
    "\n",
    "We can use the values of $SS_T$ and the sum of squared residuals ($SS_R$) \n",
    "\n",
    "$SS_R =  \\sum_{i=1}^n (observed_i - model_i )^2$\n",
    "\n",
    "to calculate how much better the linear model is than the baseline model of ‘no relationship’ (the mean). The improvement in prediction resulting from using the linear model rather than the mean is calculated as the difference between $SS_T$ and $SS_R$.\n",
    "\n",
    "This difference shows us the reduction in the inaccuracy of the model resulting from fitting the regression model to the data. This improvement is the **model sum of squares**($SS_M$):\n",
    "\n",
    "$SS_M = SS_T - SS_R$\n",
    "\n",
    "If the value of $SS_M$ is *large*, the linear model is very different from using the mean to predict the outcome variable. This implies that the linear model has made a big improvement to predicting the outcome variable. \n",
    "\n",
    "If $SS_M$ is *small* then using the linear model is little better than using the mean (i.e., the model is no better than predicting from ‘no relationship’). \n",
    "\n",
    "A useful measure arising from these sums of squares is the proportion of improvement due to the model. This is calculated by dividing the sum of squares for the model by the total sum of squares to give a quantity called $R^2$\n",
    "\n",
    "$$R^2 = \\frac {SS_M}{SS_T}$$\n",
    "\n",
    "\n",
    "with \n",
    "\n",
    "$SS_T =  \\sum_{i=1}^n (observed_i - mean)^2$\n",
    "\n",
    "$SS_R =  \\sum_{i=1}^n (observed_i - model_i )^2$\n",
    "\n",
    "$SS_M = SS_T - SS_R$\n",
    "\n",
    "To express the $R^2$-value as a percentage multiply it by 100. $R^2$ represents the amount of variance in the outcome explained by the model ($SS_M$) relative to how much variation there was to explain in the first place ($SS_T$): it represents the proportion of the variation in the outcome that can be predicted from the model. Therefore, it can take any value between 0% and 100%. \n",
    "\n",
    "**Adjusted** $R^2$: Whereas $R^2$ tells us how much of the variance in Y overlaps with predicted values from the model in our sample, adjusted $R^2$ tells us how much variance in Y would be accounted for if the model had been derived from the **population** from which the sample was taken (takes degrees of freedom into account). Therefore, the adjusted value indicates the loss of predictive power or shrinkage. \n",
    "\n",
    "**As a general rule it is preferrable to use the adjusted $R^2$ instead of the simple $R^2$.**\n"
   ]
  },
  {
   "cell_type": "markdown",
   "metadata": {},
   "source": [
    "#### Model 1: Mean"
   ]
  },
  {
   "cell_type": "code",
   "execution_count": 36,
   "metadata": {},
   "outputs": [
    {
     "data": {
      "text/html": [
       "<div>\n",
       "<style scoped>\n",
       "    .dataframe tbody tr th:only-of-type {\n",
       "        vertical-align: middle;\n",
       "    }\n",
       "\n",
       "    .dataframe tbody tr th {\n",
       "        vertical-align: top;\n",
       "    }\n",
       "\n",
       "    .dataframe thead th {\n",
       "        text-align: right;\n",
       "    }\n",
       "</style>\n",
       "<table border=\"1\" class=\"dataframe\">\n",
       "  <thead>\n",
       "    <tr style=\"text-align: right;\">\n",
       "      <th></th>\n",
       "      <th>name</th>\n",
       "      <th>id</th>\n",
       "      <th>height</th>\n",
       "      <th>height_parents</th>\n",
       "      <th>average</th>\n",
       "      <th>pred</th>\n",
       "      <th>error</th>\n",
       "    </tr>\n",
       "  </thead>\n",
       "  <tbody>\n",
       "    <tr>\n",
       "      <th>0</th>\n",
       "      <td>Stefanie</td>\n",
       "      <td>1</td>\n",
       "      <td>162</td>\n",
       "      <td>161</td>\n",
       "      <td>165.0</td>\n",
       "      <td>161.711048</td>\n",
       "      <td>-3.0</td>\n",
       "    </tr>\n",
       "    <tr>\n",
       "      <th>1</th>\n",
       "      <td>Petra</td>\n",
       "      <td>2</td>\n",
       "      <td>163</td>\n",
       "      <td>163</td>\n",
       "      <td>165.0</td>\n",
       "      <td>163.335222</td>\n",
       "      <td>-2.0</td>\n",
       "    </tr>\n",
       "    <tr>\n",
       "      <th>2</th>\n",
       "      <td>Stefanie</td>\n",
       "      <td>3</td>\n",
       "      <td>163</td>\n",
       "      <td>163</td>\n",
       "      <td>165.0</td>\n",
       "      <td>163.335222</td>\n",
       "      <td>-2.0</td>\n",
       "    </tr>\n",
       "    <tr>\n",
       "      <th>3</th>\n",
       "      <td>Manuela</td>\n",
       "      <td>4</td>\n",
       "      <td>164</td>\n",
       "      <td>165</td>\n",
       "      <td>165.0</td>\n",
       "      <td>164.959396</td>\n",
       "      <td>-1.0</td>\n",
       "    </tr>\n",
       "    <tr>\n",
       "      <th>4</th>\n",
       "      <td>Nadine</td>\n",
       "      <td>5</td>\n",
       "      <td>164</td>\n",
       "      <td>163</td>\n",
       "      <td>165.0</td>\n",
       "      <td>163.335222</td>\n",
       "      <td>-1.0</td>\n",
       "    </tr>\n",
       "  </tbody>\n",
       "</table>\n",
       "</div>"
      ],
      "text/plain": [
       "       name id  height  height_parents  average        pred  error\n",
       "0  Stefanie  1     162             161    165.0  161.711048   -3.0\n",
       "1     Petra  2     163             163    165.0  163.335222   -2.0\n",
       "2  Stefanie  3     163             163    165.0  163.335222   -2.0\n",
       "3   Manuela  4     164             165    165.0  164.959396   -1.0\n",
       "4    Nadine  5     164             163    165.0  163.335222   -1.0"
      ]
     },
     "execution_count": 36,
     "metadata": {},
     "output_type": "execute_result"
    }
   ],
   "source": [
    "# calculate error (observation - average) and assign it to dataframe\n",
    "df = df.assign(error = (df['height'] - df['average']))\n",
    "df.head(5)"
   ]
  },
  {
   "cell_type": "markdown",
   "metadata": {},
   "source": [
    "Note, that we can’t simply add deviances (the individual errors) because some errors are positive and others negative and so we’d get a total of zero.\n",
    "\n",
    "total error = sum of errors \n",
    "\n",
    "total error $= \\sum_{i=1}^n (outcome_i - model_i)$ "
   ]
  },
  {
   "cell_type": "code",
   "execution_count": 37,
   "metadata": {},
   "outputs": [
    {
     "data": {
      "text/plain": [
       "0.0"
      ]
     },
     "execution_count": 37,
     "metadata": {},
     "output_type": "execute_result"
    }
   ],
   "source": [
    "# calculate the sum of the errors \n",
    "df.error.sum()"
   ]
  },
  {
   "cell_type": "code",
   "execution_count": 38,
   "metadata": {
    "scrolled": false
   },
   "outputs": [
    {
     "data": {
      "image/png": "[encoded data removed]",
      "text/plain": [
       "<Figure size 432x288 with 1 Axes>"
      ]
     },
     "metadata": {},
     "output_type": "display_data"
    }
   ],
   "source": [
    "# create a scatterplot (plt)\n",
    "plt = sns.scatterplot(x=\"id\", y=\"height\",data=df,);\n",
    "plt.set(xlabel='ID', ylabel='Height in cm', title='Error of th model');\n",
    "plt.plot([0, 20], [165, 165], linewidth=2, color='r');\n",
    "plt.text(1, 165.2,'mean = 165', rotation=0, color='r');"
   ]
  },
  {
   "cell_type": "code",
   "execution_count": 39,
   "metadata": {},
   "outputs": [
    {
     "data": {
      "image/png": "[encoded data removed]",
      "text/plain": [
       "<Figure size 432x288 with 1 Axes>"
      ]
     },
     "metadata": {},
     "output_type": "display_data"
    }
   ],
   "source": [
    "# residual plot\n",
    "sns.residplot(x=\"average\", y=\"height\", data=df, scatter_kws={\"s\": 80});"
   ]
  },
  {
   "cell_type": "code",
   "execution_count": 40,
   "metadata": {},
   "outputs": [
    {
     "data": {
      "text/html": [
       "<div>\n",
       "<style scoped>\n",
       "    .dataframe tbody tr th:only-of-type {\n",
       "        vertical-align: middle;\n",
       "    }\n",
       "\n",
       "    .dataframe tbody tr th {\n",
       "        vertical-align: top;\n",
       "    }\n",
       "\n",
       "    .dataframe thead th {\n",
       "        text-align: right;\n",
       "    }\n",
       "</style>\n",
       "<table border=\"1\" class=\"dataframe\">\n",
       "  <thead>\n",
       "    <tr style=\"text-align: right;\">\n",
       "      <th></th>\n",
       "      <th>name</th>\n",
       "      <th>id</th>\n",
       "      <th>height</th>\n",
       "      <th>height_parents</th>\n",
       "      <th>average</th>\n",
       "      <th>pred</th>\n",
       "      <th>error</th>\n",
       "      <th>error_sq</th>\n",
       "    </tr>\n",
       "  </thead>\n",
       "  <tbody>\n",
       "    <tr>\n",
       "      <th>0</th>\n",
       "      <td>Stefanie</td>\n",
       "      <td>1</td>\n",
       "      <td>162</td>\n",
       "      <td>161</td>\n",
       "      <td>165.0</td>\n",
       "      <td>161.711048</td>\n",
       "      <td>-3.0</td>\n",
       "      <td>9.0</td>\n",
       "    </tr>\n",
       "    <tr>\n",
       "      <th>1</th>\n",
       "      <td>Petra</td>\n",
       "      <td>2</td>\n",
       "      <td>163</td>\n",
       "      <td>163</td>\n",
       "      <td>165.0</td>\n",
       "      <td>163.335222</td>\n",
       "      <td>-2.0</td>\n",
       "      <td>4.0</td>\n",
       "    </tr>\n",
       "    <tr>\n",
       "      <th>2</th>\n",
       "      <td>Stefanie</td>\n",
       "      <td>3</td>\n",
       "      <td>163</td>\n",
       "      <td>163</td>\n",
       "      <td>165.0</td>\n",
       "      <td>163.335222</td>\n",
       "      <td>-2.0</td>\n",
       "      <td>4.0</td>\n",
       "    </tr>\n",
       "    <tr>\n",
       "      <th>3</th>\n",
       "      <td>Manuela</td>\n",
       "      <td>4</td>\n",
       "      <td>164</td>\n",
       "      <td>165</td>\n",
       "      <td>165.0</td>\n",
       "      <td>164.959396</td>\n",
       "      <td>-1.0</td>\n",
       "      <td>1.0</td>\n",
       "    </tr>\n",
       "    <tr>\n",
       "      <th>4</th>\n",
       "      <td>Nadine</td>\n",
       "      <td>5</td>\n",
       "      <td>164</td>\n",
       "      <td>163</td>\n",
       "      <td>165.0</td>\n",
       "      <td>163.335222</td>\n",
       "      <td>-1.0</td>\n",
       "      <td>1.0</td>\n",
       "    </tr>\n",
       "  </tbody>\n",
       "</table>\n",
       "</div>"
      ],
      "text/plain": [
       "       name id  height  height_parents  average        pred  error  error_sq\n",
       "0  Stefanie  1     162             161    165.0  161.711048   -3.0       9.0\n",
       "1     Petra  2     163             163    165.0  163.335222   -2.0       4.0\n",
       "2  Stefanie  3     163             163    165.0  163.335222   -2.0       4.0\n",
       "3   Manuela  4     164             165    165.0  164.959396   -1.0       1.0\n",
       "4    Nadine  5     164             163    165.0  163.335222   -1.0       1.0"
      ]
     },
     "execution_count": 40,
     "metadata": {},
     "output_type": "execute_result"
    }
   ],
   "source": [
    "# calculate squared error and assign it to dataframe\n",
    "df = df.assign(error_sq = (df['height'] - df['average'])**2)\n",
    "df.head(5)"
   ]
  },
  {
   "cell_type": "code",
   "execution_count": 41,
   "metadata": {},
   "outputs": [
    {
     "name": "stdout",
     "output_type": "stream",
     "text": [
      "Sum of squared error (SS_T) of model 1: 42.0\n"
     ]
    }
   ],
   "source": [
    "# calculate sum of squared error (which is in case of the mean the total error)\n",
    "SS_T = df.error_sq.sum()\n",
    "# print output\n",
    "print('Sum of squared error (SS_T) of model 1:', SS_T)"
   ]
  },
  {
   "cell_type": "markdown",
   "metadata": {},
   "source": [
    "#### Model 2: Linear Regression"
   ]
  },
  {
   "cell_type": "code",
   "execution_count": 42,
   "metadata": {},
   "outputs": [
    {
     "data": {
      "text/plain": [
       "4.206412995699793e-12"
      ]
     },
     "execution_count": 42,
     "metadata": {},
     "output_type": "execute_result"
    }
   ],
   "source": [
    "lm.resid.sum()"
   ]
  },
  {
   "cell_type": "code",
   "execution_count": 43,
   "metadata": {
    "scrolled": true
   },
   "outputs": [
    {
     "data": {
      "text/html": [
       "<div>\n",
       "<style scoped>\n",
       "    .dataframe tbody tr th:only-of-type {\n",
       "        vertical-align: middle;\n",
       "    }\n",
       "\n",
       "    .dataframe tbody tr th {\n",
       "        vertical-align: top;\n",
       "    }\n",
       "\n",
       "    .dataframe thead th {\n",
       "        text-align: right;\n",
       "    }\n",
       "</style>\n",
       "<table border=\"1\" class=\"dataframe\">\n",
       "  <thead>\n",
       "    <tr style=\"text-align: right;\">\n",
       "      <th></th>\n",
       "      <th>name</th>\n",
       "      <th>id</th>\n",
       "      <th>height</th>\n",
       "      <th>height_parents</th>\n",
       "      <th>average</th>\n",
       "      <th>pred</th>\n",
       "      <th>error</th>\n",
       "      <th>error_sq</th>\n",
       "      <th>error_2</th>\n",
       "      <th>error_sq_2</th>\n",
       "    </tr>\n",
       "  </thead>\n",
       "  <tbody>\n",
       "    <tr>\n",
       "      <th>0</th>\n",
       "      <td>Stefanie</td>\n",
       "      <td>1</td>\n",
       "      <td>162</td>\n",
       "      <td>161</td>\n",
       "      <td>165.0</td>\n",
       "      <td>161.711048</td>\n",
       "      <td>-3.0</td>\n",
       "      <td>9.0</td>\n",
       "      <td>0.288952</td>\n",
       "      <td>0.083493</td>\n",
       "    </tr>\n",
       "    <tr>\n",
       "      <th>1</th>\n",
       "      <td>Petra</td>\n",
       "      <td>2</td>\n",
       "      <td>163</td>\n",
       "      <td>163</td>\n",
       "      <td>165.0</td>\n",
       "      <td>163.335222</td>\n",
       "      <td>-2.0</td>\n",
       "      <td>4.0</td>\n",
       "      <td>-0.335222</td>\n",
       "      <td>0.112374</td>\n",
       "    </tr>\n",
       "    <tr>\n",
       "      <th>2</th>\n",
       "      <td>Stefanie</td>\n",
       "      <td>3</td>\n",
       "      <td>163</td>\n",
       "      <td>163</td>\n",
       "      <td>165.0</td>\n",
       "      <td>163.335222</td>\n",
       "      <td>-2.0</td>\n",
       "      <td>4.0</td>\n",
       "      <td>-0.335222</td>\n",
       "      <td>0.112374</td>\n",
       "    </tr>\n",
       "    <tr>\n",
       "      <th>3</th>\n",
       "      <td>Manuela</td>\n",
       "      <td>4</td>\n",
       "      <td>164</td>\n",
       "      <td>165</td>\n",
       "      <td>165.0</td>\n",
       "      <td>164.959396</td>\n",
       "      <td>-1.0</td>\n",
       "      <td>1.0</td>\n",
       "      <td>-0.959396</td>\n",
       "      <td>0.920440</td>\n",
       "    </tr>\n",
       "    <tr>\n",
       "      <th>4</th>\n",
       "      <td>Nadine</td>\n",
       "      <td>5</td>\n",
       "      <td>164</td>\n",
       "      <td>163</td>\n",
       "      <td>165.0</td>\n",
       "      <td>163.335222</td>\n",
       "      <td>-1.0</td>\n",
       "      <td>1.0</td>\n",
       "      <td>0.664778</td>\n",
       "      <td>0.441930</td>\n",
       "    </tr>\n",
       "  </tbody>\n",
       "</table>\n",
       "</div>"
      ],
      "text/plain": [
       "       name id  height  height_parents  average        pred  error  error_sq  \\\n",
       "0  Stefanie  1     162             161    165.0  161.711048   -3.0       9.0   \n",
       "1     Petra  2     163             163    165.0  163.335222   -2.0       4.0   \n",
       "2  Stefanie  3     163             163    165.0  163.335222   -2.0       4.0   \n",
       "3   Manuela  4     164             165    165.0  164.959396   -1.0       1.0   \n",
       "4    Nadine  5     164             163    165.0  163.335222   -1.0       1.0   \n",
       "\n",
       "    error_2  error_sq_2  \n",
       "0  0.288952    0.083493  \n",
       "1 -0.335222    0.112374  \n",
       "2 -0.335222    0.112374  \n",
       "3 -0.959396    0.920440  \n",
       "4  0.664778    0.441930  "
      ]
     },
     "execution_count": 43,
     "metadata": {},
     "output_type": "execute_result"
    }
   ],
   "source": [
    "# obtain the residuals from statsmodel (resid)\n",
    "df['error_2'] = lm.resid\n",
    "# square the residuals \n",
    "df['error_sq_2'] = df['error_2']**2\n",
    "# show df\n",
    "df.head(5)"
   ]
  },
  {
   "cell_type": "code",
   "execution_count": 44,
   "metadata": {},
   "outputs": [
    {
     "name": "stdout",
     "output_type": "stream",
     "text": [
      "42.0\n"
     ]
    }
   ],
   "source": [
    "# Total sum of squares (SS_T: sum of squared errors of the base model, i.e. the mean)\n",
    "print(SS_T)"
   ]
  },
  {
   "cell_type": "code",
   "execution_count": 45,
   "metadata": {},
   "outputs": [
    {
     "name": "stdout",
     "output_type": "stream",
     "text": [
      "7.0802644003777155\n"
     ]
    },
    {
     "data": {
      "text/plain": [
       "7.080264400377715"
      ]
     },
     "execution_count": 45,
     "metadata": {},
     "output_type": "execute_result"
    }
   ],
   "source": [
    "# Sum of squared residuals (SS_R)\n",
    "SS_R = df['error_sq_2'].sum()\n",
    "print(SS_R)\n",
    "# SS_R – Sum of squared (whitened) residuals from statsmodel function\n",
    "lm.ssr"
   ]
  },
  {
   "cell_type": "code",
   "execution_count": 46,
   "metadata": {},
   "outputs": [
    {
     "data": {
      "image/png": "[encoded data removed]",
      "text/plain": [
       "<Figure size 360x360 with 1 Axes>"
      ]
     },
     "metadata": {},
     "output_type": "display_data"
    }
   ],
   "source": [
    "# Plot regression line \n",
    "sns.lmplot(x='height_parents', y='height', data=df, line_kws={'color':'red'}, height=5, ci=None);"
   ]
  },
  {
   "cell_type": "code",
   "execution_count": 47,
   "metadata": {},
   "outputs": [
    {
     "data": {
      "image/png": "[encoded data removed]",
      "text/plain": [
       "<Figure size 432x288 with 1 Axes>"
      ]
     },
     "metadata": {},
     "output_type": "display_data"
    }
   ],
   "source": [
    "sns.residplot(x=\"height_parents\", y=\"height\", data=df, scatter_kws={\"s\": 80});"
   ]
  },
  {
   "cell_type": "code",
   "execution_count": 48,
   "metadata": {},
   "outputs": [
    {
     "name": "stdout",
     "output_type": "stream",
     "text": [
      "34.919735599622285\n"
     ]
    },
    {
     "data": {
      "text/plain": [
       "34.919735599622285"
      ]
     },
     "execution_count": 48,
     "metadata": {},
     "output_type": "execute_result"
    }
   ],
   "source": [
    "# Explained sum of squares  (SS_M = SS_T - SS_R)\n",
    "SS_M = SS_T - SS_R\n",
    "print(SS_M)\n",
    "# Explained sum of squres (SS_M) from statsmodel function\n",
    "lm.ess"
   ]
  },
  {
   "cell_type": "markdown",
   "metadata": {},
   "source": [
    "$R^2$ is the proportion of the variance in the dependent variable that is predictable from the independent variable"
   ]
  },
  {
   "cell_type": "code",
   "execution_count": 49,
   "metadata": {},
   "outputs": [
    {
     "name": "stdout",
     "output_type": "stream",
     "text": [
      "0.831422276181483\n"
     ]
    }
   ],
   "source": [
    "# R_Squared: explained sum of squared residuals\n",
    "R_squared = SS_M / SS_T\n",
    "print(R_squared)"
   ]
  },
  {
   "cell_type": "code",
   "execution_count": 50,
   "metadata": {},
   "outputs": [
    {
     "data": {
      "text/plain": [
       "0.831422276181483"
      ]
     },
     "execution_count": 50,
     "metadata": {},
     "output_type": "execute_result"
    }
   ],
   "source": [
    "# R_Squared of statsmodel\n",
    "lm.rsquared"
   ]
  },
  {
   "cell_type": "code",
   "execution_count": 51,
   "metadata": {},
   "outputs": [
    {
     "data": {
      "text/plain": [
       "0.8220568470804543"
      ]
     },
     "execution_count": 51,
     "metadata": {},
     "output_type": "execute_result"
    }
   ],
   "source": [
    "# Adjusted R_Squared: \n",
    "lm.rsquared_adj"
   ]
  },
  {
   "cell_type": "markdown",
   "metadata": {},
   "source": [
    "### Pearson's correlation coefficient\n",
    "\n",
    "We just saw that $R^2$ represents the proportion of the variation in the outcome that can be predicted from the model:  \n",
    "\n",
    "$R^2 = \\frac{SS_M}{SS_T}$\n",
    "\n",
    "with \n",
    "\n",
    "$SS_T =  \\sum_{i=1}^n (observed_i - mean)^2$\n",
    "\n",
    "$SS_R =  \\sum_{i=1}^n (observed_i - model_i )^2$\n",
    "\n",
    "$SS_M = SS_T - SS_R$\n",
    "\n",
    "We can take the square root of this value to obtain **Pearson’s correlation coefficient** (we cover the topic of correlation in a separate application in detail) for the relationship between the values of the outcome predicted by the model and the observed values of the outcome. With only one predictor in the model this value will be the same as the Pearson correlation coefficient between the predictor and outcome variable.\n",
    "\n",
    "$r = \\sqrt{R^2} = \\sqrt{\\frac{SS_M}{SS_T}}$\n",
    "\n",
    "\n",
    "As such, the correlation coefficient provides us with a good estimate of the overall fit of the regression model (i.e., the correspondence between predicted values of the outcome and the actual values), and $R^2$ provides us with a gauge of the substantive size of the model fit.\n",
    "\n",
    "**Interpretation of r:**\n",
    "\n",
    "$- 1 ≤ r ≤ 1$\n",
    "\n",
    "With a perfect relationship (r = −1 or 1) the observed data basically fall exactly on the line (the model is a perfect fit to the data), but for a weaker relationship (r = −0.5 or 0.5) the observed data are scattered more widely around the line.\n",
    "\n",
    "  * | r | = 0.10 (small effect)\n",
    "  * | r | = 0.30 (medium effect)\n",
    "  * | r | = 0.50 (large effect)\n",
    "\n",
    "It’s worth bearing in mind that r is not measured on a linear scale, so an effect with r = 0.6 isn’t twice as big as one with r = 0.3."
   ]
  },
  {
   "cell_type": "markdown",
   "metadata": {},
   "source": [
    "#### Model 2: Linear Regression"
   ]
  },
  {
   "cell_type": "code",
   "execution_count": 52,
   "metadata": {},
   "outputs": [
    {
     "name": "stdout",
     "output_type": "stream",
     "text": [
      "0.911823599267689\n"
     ]
    }
   ],
   "source": [
    "# correlation coefficient r\n",
    "r = np.sqrt(R_squared)\n",
    "print(r)"
   ]
  },
  {
   "cell_type": "code",
   "execution_count": 53,
   "metadata": {},
   "outputs": [
    {
     "data": {
      "text/plain": [
       "(0.9118235992676889, 2.2144128916549524e-08)"
      ]
     },
     "execution_count": 53,
     "metadata": {},
     "output_type": "execute_result"
    }
   ],
   "source": [
    "# correlation coefficient with p-value\n",
    "stats.pearsonr(df['height'], df['height_parents'])"
   ]
  },
  {
   "cell_type": "markdown",
   "metadata": {},
   "source": [
    "### Mean squared error, variance and standard deviation\n",
    "\n",
    "Although the **sum of squared errors (SS)** is a good measure of the accuracy of our model, it depends upon the quantity of data that has been collected – the more data points, the higher the SS. \n",
    "\n",
    "By using the **average error**, rather than the total, we can overcome this problem. This measure is called the \"**Mean Squared Error (MSE)**\". In the regression setting, it is the most commonly-used measure to evaluate the performance of a model. \n",
    "\n",
    "To compute the average error we divide the sum of squares by the number of values that we used to compute that total. We again come back to the problem that we’re usually interested in the error in the model in the **population** (not the **sample**). \n",
    "\n",
    "To estimate the mean error in the population we need to divide not by the number of scores contributing to the total, but by the **degrees of freedom (df)**, which is the number of scores used to compute the total adjusted for the fact that we’re trying to estimate the population value. Note: you may encounter different formulas for calculating the mse. Some only devide by the number of observations and not the df.\n",
    "\n",
    "Mean squared error:\n",
    "\n",
    "$$ MSE = \\frac {SS}{df} = \\frac {\\sum_{i=1}^n (outcome_i - model_i)^2}{df}$$\n",
    "\n",
    "The **mean squared error** is also known as the **variance**. Furthermore, the **standard deviation** is the square root of the variance:\n",
    "\n",
    "$$Variance = s^2 = \\frac {SS}{df} = \\frac {\\sum_{i=1}^n (outcome_i - model_i)^2}{df}$$\n",
    "\n",
    "Standard Deviation = $$\\sqrt{s^2} = \\sqrt{\\frac{\\sum\\limits_{i=1}^{n} \\left(x_{i} - \\bar{x}\\right)^{2}} {df}}$$\n",
    "\n",
    "which equals:\n",
    "\n",
    "$$ s =  \\frac {\\sum_{i=1}^n (outcome_i - model_i)}{df}$$\n",
    "\n",
    "A small **standard deviation** represented a scenario in which most data points were close to the mean, whereas a large standard deviation represented a situation in which data points were widely spread from the mean. "
   ]
  },
  {
   "cell_type": "markdown",
   "metadata": {},
   "source": [
    "#### Model 1: Mean"
   ]
  },
  {
   "cell_type": "code",
   "execution_count": 54,
   "metadata": {},
   "outputs": [
    {
     "name": "stdout",
     "output_type": "stream",
     "text": [
      "Mean squared error of the mean: 2.210526315789474\n"
     ]
    }
   ],
   "source": [
    "# calculate mean squared error of the model 1 \"the mean\"\n",
    "# Number of obeservations (lenght of DataFrame)\n",
    "n = len(df[\"height\"])\n",
    "# calculate mse\n",
    "mse = (SS_T/(n-1))\n",
    "# print output\n",
    "print('Mean squared error of the mean:', mse)"
   ]
  },
  {
   "cell_type": "markdown",
   "metadata": {},
   "source": [
    "Mean squared error =  $\\frac {SS}{df} = \\frac {\\sum_{i=1}^n (outcome_i - model_i)^2}{df} = \\frac {\\sum_{i=1}^n(x_i-\\bar{x})^2}{df} = \\frac {42}{19} = 2.210$\n",
    "\n",
    "In our example, $n=20$, we have one parameter, p=1 (the mean), and therefore, the degrees of freedom are df = (p-1) = 20-1 = 19."
   ]
  },
  {
   "cell_type": "code",
   "execution_count": 55,
   "metadata": {},
   "outputs": [
    {
     "name": "stdout",
     "output_type": "stream",
     "text": [
      "Standard deviation (SD) of model 1 = 1.49\n"
     ]
    }
   ],
   "source": [
    "# generate a variable called variance (to illustrate relationship between variance and standard deviation)\n",
    "variance = mse\n",
    "# obtain the standard deviation\n",
    "print(f'Standard deviation (SD) of model 1 = {round(np.sqrt(variance),2)}')"
   ]
  },
  {
   "cell_type": "markdown",
   "metadata": {},
   "source": [
    "#### Model 2: Linear Regression"
   ]
  },
  {
   "cell_type": "markdown",
   "metadata": {},
   "source": [
    "Statsmodel provide us with different options (we use mse_resid and mse_total): \n",
    "\n",
    "  * mse_model : Mean squared error the model. This is the explained sum of squares divided by the model degrees of freedom.\n",
    "  * mse_resid : Mean squared error of the residuals. The sum of squared residuals divided by the residual degrees of freedom.\n",
    "  * mse_total : Total mean squared error. Defined as the uncentered total sum of squares divided by n the number of observations."
   ]
  },
  {
   "cell_type": "code",
   "execution_count": 56,
   "metadata": {},
   "outputs": [
    {
     "name": "stdout",
     "output_type": "stream",
     "text": [
      "Total mean squared error (MSE_T): 2.210526315789474\n"
     ]
    }
   ],
   "source": [
    "# Total MSE_T (this is the MSE of the basline mean model) from statsmodel\n",
    "MSE_T = lm.mse_total\n",
    "# print output\n",
    "print('Total mean squared error (MSE_T):', MSE_T)\n",
    "# compare this result to mse... they are the same"
   ]
  },
  {
   "cell_type": "code",
   "execution_count": 57,
   "metadata": {},
   "outputs": [
    {
     "name": "stdout",
     "output_type": "stream",
     "text": [
      "Mean squared error of residuals (MSE_R): 0.3933480222432064\n",
      "Mean squared error od residuals (MSE_R): 0.39334802224320636\n"
     ]
    }
   ],
   "source": [
    "# Mean squared error of residuals (MSE_R)\n",
    "MSE_R = SS_R / (20-2)\n",
    "print('Mean squared error of residuals (MSE_R):', MSE_R)\n",
    "# MSE of residuals from statsmodel (preferred)\n",
    "print(f'Mean squared error od residuals (MSE_R): {lm.mse_resid}')"
   ]
  },
  {
   "cell_type": "code",
   "execution_count": 58,
   "metadata": {},
   "outputs": [
    {
     "name": "stdout",
     "output_type": "stream",
     "text": [
      "Standard deviation (SD) of model 2 = 0.63\n"
     ]
    }
   ],
   "source": [
    "# the standard deviation equals the root of the MSE_R\n",
    "print(f'Standard deviation (SD) of model 2 = {round(np.sqrt(MSE_R),2)}')"
   ]
  },
  {
   "cell_type": "markdown",
   "metadata": {},
   "source": [
    "### F-Statistic\n",
    "\n",
    "A second use of the sums of squares in assessing the model is the **F-test**. Test statistics (like F) are usually the amount of **systematic variance** divided by the amount of **unsystematic variance**, or, put another way, the model compared to the error in the model. This is true here: F is based upon the ratio of the improvement due to the model ($SS_M$) and the error in the model ($SS_R$). \n",
    "\n",
    "Because the sums of squares depend on the number of differences that were added up, the **average sums of squares** (referred to as the **mean squares** or **MS**) are used to compute F. \n",
    "\n",
    "The **mean sum of squares** is the sum of squares divided by the associated degrees of freedom (this is comparable to calculating the variance from the sums of squares). \n",
    "\n",
    "For $SS_M$ the degrees of freedom are the number of predictors in the model (*p*), and for $SS_R$ they are the number of observations (*n*) minus the number of parameters being estimated (i.e., the number of b coefficients including the constant). \n",
    "\n",
    "We estimate a \"b\" for each predictor and the intercept ($b_0$), so the total number of b's estimated will be *p + 1*, giving us degrees of freedom of n - (p + 1) or, more simply, n - p - 1. Thus:\n",
    "\n",
    "$MS_M = \\frac{SS_M}{p}$\n",
    "\n",
    "$MS_R = \\frac{SS_R}{n-p-1}$\n",
    "\n",
    "**The F-statistic computed from these mean squares**\n",
    "\n",
    "$$F = \\frac{Systematic Variance}{Unsystematic Variance} = \\frac{MS_M}{MS_R}$$\n",
    "\n",
    "is a measure of how much the model has *improved* the prediction of the outcome compared to the level of inaccuracy of the model. If a model is good, then the improvement in prediction from using the model should be large ($MS_M$ will be large) and the difference between the model and the observed data should be small ($MS_R$ will be small). \n",
    "\n",
    "In short, for a good model the numerator in the equation above will be bigger than the denominator, resulting in a large F-statistic (greater than 1 at least).\n",
    "\n",
    "This F has an associated probability distribution from which a **p-value** can be derived to tell us the probability of getting an F at least as big as the one we have if the null hypothesis were true. The null hypothesis in this case is a flat model (predicted values of the outcome are the same regardless of the value of the predictors). \n",
    "\n",
    "The F-statistic is also used to calculate the significance of $R^2$ using the following equation:\n",
    "\n",
    "$F = \\frac{(n-p-1)R^2}{p(1-R^2)}$\n",
    "\n",
    "in which n is the number of cases or participants, and p is the number of predictors in the model. This F tests the null hypothesis that $R^2$ is zero (i.e., there is no improvement in the sum of squared error due to fitting the model)."
   ]
  },
  {
   "cell_type": "markdown",
   "metadata": {},
   "source": [
    "#### Model 2: Linear Regression"
   ]
  },
  {
   "cell_type": "code",
   "execution_count": 59,
   "metadata": {},
   "outputs": [
    {
     "name": "stdout",
     "output_type": "stream",
     "text": [
      "MS_M = 34.919735599622285\n",
      "MS_M = 34.919735599622285\n"
     ]
    }
   ],
   "source": [
    "# Mean squared error of the model (MSE_M)\n",
    "p = 1 # we only have one predictor (height_parents)\n",
    "MS_M = (SS_M / p)\n",
    "print('MS_M =', MS_M)\n",
    "# MSE_M of residuals from statsmodel\n",
    "print(f'MS_M = {lm.mse_model}')"
   ]
  },
  {
   "cell_type": "code",
   "execution_count": 60,
   "metadata": {},
   "outputs": [
    {
     "name": "stdout",
     "output_type": "stream",
     "text": [
      "88.77567351293678\n"
     ]
    }
   ],
   "source": [
    "# Adjust notation and calculate F-value\n",
    "MS_R = MSE_R\n",
    "# F-value\n",
    "F_value = (MS_M / MS_R)\n",
    "print(F_value)"
   ]
  },
  {
   "cell_type": "code",
   "execution_count": 61,
   "metadata": {},
   "outputs": [
    {
     "name": "stdout",
     "output_type": "stream",
     "text": [
      "88.77567351293679\n",
      "88.77567351293679\n"
     ]
    }
   ],
   "source": [
    "# statsmodel\n",
    "# Alternative way to obtain F-value (preferred)\n",
    "print(lm.fvalue)\n",
    "# which of course equals\n",
    "F_val = (lm.mse_model / lm.mse_resid)\n",
    "print(F_val)"
   ]
  },
  {
   "cell_type": "markdown",
   "metadata": {},
   "source": [
    "### 5.2.5 Standard error\n",
    "\n",
    "We just learned that the **standard deviation** tells us about how well the mean represents the sample data. However, if we’re using the **sample mean** to estimate this parameter in the **population** (like we did), then we need to know how well it represents the value in the population, especially because samples from a population differ. \n",
    "\n",
    "Imagine that we were interested in the height of *all* adult women (so adult women  are the **population**). We could take a **sample** from this population (like we did with our 20 women), and when we do we are taking one of many possible samples. If we were to take several samples from the same population, then each sample would have its own mean, and some of these sample means will be different. \n",
    "\n",
    "Imagine we could obtain the height of all adult women and could compute the mean of their height (which would equal $\\mu$ = 168 cm). Then we would know, as an absolute fact, that the mean of the height is 168 cm (this is the population mean, **µ**, the parameter that we’re trying to estimate).\n",
    "\n",
    "In reality, we don’t have access to the population, so we use a sample. In this sample we calculate the average height, known as the **sample mean** ($\\bar{x}$), and discover it is 168 cm; that is, adult women in our sample are 168 cm tall, on average. Now we take a second sample and find that women in this sample are, on average, only 167 cm tall. In other words, the sample mean is different in the second sample than in the first. \n",
    "\n",
    "This difference illustrates **sampling variation**: that is, samples vary because they contain different members of the population; a sample that, by chance, includes relatively tall women will have a higher average than a sample that, by chance, includes some women who are relatively short.\n",
    "\n",
    "Imagine that we now take a lot of samples (let's say 1000). If we plotted the resulting sample means as a histogram, we would observe a symmetrical distribution known as a **sampling distribution**. \n",
    "\n",
    "A **sampling distribution** is the frequency distribution of sample means (or whatever parameter you’re trying to estimate) from the same population. You need to imagine that we’re taking hundreds or thousands of samples to construct a sampling distribution. \n",
    "\n",
    "The sampling distribution of the mean tells us about the behaviour of samples from the population, and it is centred at around the same value as the mean of the population. Therefore, if we took the average of all sample means we’d get the value of the **population mean**. \n",
    "\n",
    "We can use the sampling distribution to tell us how *representative a sample* is of the population. Think back to the **standard deviation**. We used the standard deviation as a measure of how representative the mean was of the observed data. \n",
    "\n",
    "A small standard deviation represented a scenario in which most data points were close to the mean, whereas a large standard deviation represented a situation in which data points were widely spread from the mean. If our ‘observed data’ are sample means then the standard deviation of these sample means would similarly tell us how widely spread (i.e., how representative) sample means are around their average. Bearing in mind that the *average of the sample means* is the same as the *population mean*, the standard deviation of the sample means would therefore tell us how widely sample means are spread around the population mean: put another way, it tells us whether sample means are typically representative of the population mean.\n",
    "\n",
    "The standard deviation of sample means is known as the **standard error of the mean (SE)** or standard error for short. Theoretically, the standard error could be calculated by taking the difference between each sample mean and the overall mean, squaring these differences, adding them up, and then dividing by the number of samples. Finally, the square root of this value would need to be taken to get the standard deviation of sample means: the standard error. In the real world, it would be to costly to collect thousands of samples, and so we compute the standard error from a mathematical approximation. \n",
    "\n",
    "Statisticians have demonstrated something called the **central limit theorem**, which tells us that as samples get large (usually defined as greater than 30), the sampling distribution has a normal distribution with a mean equal to the population mean, and we can calculate the standard deviation as follows: \n",
    "\n",
    "$$\\sigma_{\\bar{X}} = \\frac{s} {\\sqrt{N}}$$\n",
    "\n",
    "Hence, if our sample is largeer than n=30 we can use the equation above to approximate the standard error (because it is the standard deviation of the sampling distribution).\n",
    "Note: when the sample is relatively small (fewer than 30) the sampling distribution is not normal: it has a different shape, known as a **t-distribution**, which we’ll cover later.\n",
    "\n",
    "**Summary**\n",
    "\n",
    "  * The standard error of the mean is the standard deviation of sample means. \n",
    "  * As such, it is a measure of how representative of the population a sample mean is likely to be. \n",
    "  * A large standard error (relative to the sample mean) means that there is a lot of variability between the means of different samples and so the sample mean we have might not be representative of the population mean. \n",
    "  * A small standard error indicates that most sample means are similar to the population mean (i.e., our sample mean is likely to accurately reflect the population mean)."
   ]
  },
  {
   "cell_type": "markdown",
   "metadata": {},
   "source": [
    "#### Model 1: Mean"
   ]
  },
  {
   "cell_type": "code",
   "execution_count": 62,
   "metadata": {},
   "outputs": [
    {
     "name": "stdout",
     "output_type": "stream",
     "text": [
      "0.33245498310218435\n"
     ]
    }
   ],
   "source": [
    "# calculate standard error (...we ignore the fact that our sample is small since n < 30) \n",
    "se = df['height'].sem()\n",
    "print(se)\n",
    "# assign se to df\n",
    "df = df.assign(se=se)"
   ]
  },
  {
   "cell_type": "code",
   "execution_count": 63,
   "metadata": {},
   "outputs": [
    {
     "name": "stdout",
     "output_type": "stream",
     "text": [
      "0.33245498310218435\n"
     ]
    }
   ],
   "source": [
    "# alternative way to calculate standard error (se)\n",
    "# calculate standard deviation (s)\n",
    "s = df[\"height\"].std()\n",
    "# calculate se\n",
    "se = (s/np.sqrt(n))\n",
    "print(se)"
   ]
  },
  {
   "cell_type": "markdown",
   "metadata": {},
   "source": [
    "#### Model 2: Linear Regression"
   ]
  },
  {
   "cell_type": "code",
   "execution_count": 64,
   "metadata": {},
   "outputs": [
    {
     "name": "stdout",
     "output_type": "stream",
     "text": [
      "Standard error (SE) of model 2: Intercept         14.226306\n",
      "height_parents     0.086190\n",
      "dtype: float64\n"
     ]
    }
   ],
   "source": [
    "# Get standard error of parameters\n",
    "se_2 = lm.bse\n",
    "print('Standard error (SE) of model 2:', se_2)"
   ]
  },
  {
   "cell_type": "markdown",
   "metadata": {},
   "source": [
    "### Confidence interval\n",
    "\n",
    "As a brief recap, we usually use a **sample value** as an estimate of a **parameter** (e.g., the mean or any other parameter b) in the **population**. We’ve just seen that the **estimate of a parameter** (e.g., the mean) will differ across samples, and we can use the **standard error** to get some idea of the extent to which these estimates differ across samples. We can also use this information to calculate boundaries within which we believe the population value will fall. Such boundaries are called **confidence intervals**. \n",
    "\n",
    "For example, perhaps we might want to know how often, *in the long run*, an interval contains the true value of the parameter we’re trying to estimate (in the case of model 1, the mean). This is what a **confidence interval** does. Typically, we look at 95% confidence intervals, and sometimes 99% confidence intervals, but they all have a similar interpretation: they are limits constructed such that, for a certain percentage of samples (be that 95% or 99%), the true value of the population parameter falls within the limits. So, when you see a 95% confidence interval for a mean, think of it like this: \n",
    "\n",
    "  * if we’d collected 100 samples, and for each sample calculated the parameter (e.g. the mean) and a confidence interval for it, then for 95 of these samples, the confidence interval contains the value of the parameter (e.g. the mean) in the population, and in 5 of the samples the confidence interval does not contain the population paramater (e.g. the mean). \n",
    "  \n",
    "The trouble is, you do not know whether the confidence interval from a particular sample is one of the 95% that contain the true value or one of the 5% that do not.\n",
    "\n",
    "Here is an example of a common wrong interpretation of confidence intervalls:\n",
    "\n",
    "\n",
    "* **Wrong** interpretation: a 95% confidence interval has a 95% probability of containing the population parameter. \n",
    "\n",
    "It is a common mistake, but this is *not* true. The 95% reflects a *long-run probability*. It means that if you take repeated samples and construct confidence intervals, then 95% of them will contain the population value. That is not the same as a particular confidence interval for a specific sample having a 95% probability of containing the value. In fact, for a specific confidence interval, the probability that it contains the population value is either 0 (it does not contain it) or 1 (it does contain it). You have no way of knowing which it is.\n",
    "\n",
    "We know (in large samples) that the sampling distribution of parameters (e.g. means) will be normal, and the **normal distribution** has been precisely defined such that it has a mean of 0 and a standard deviation of 1. We can use this information to compute the probability of a score occurring, or the limits between which a certain percentage of scores fall. \n",
    "\n",
    "We make use of the fact that 95% of **z-scores** fall between −1.96 and 1.96. This means that if our sample parameters (e.g. means) were normally distributed with a mean of 0 and a standard error of 1, then the limits of our confidence interval would be −1.96 and +1.96. Luckily we know from the **central limit theorem** that in large samples (above about 30) the sampling distribution will be normally distributed. \n",
    "\n",
    "**Visualize confidence intervals in plots**\n",
    "\n",
    "We saw that confidence intervals provide us with information about a parameter, and, therefore, you often see them displayed on graphs.\n",
    "\n",
    "The confidence interval is usually displayed using something called an **error bar**, which looks like the letter ‘I’. An error bar can represent the **standard deviation**, or the **standard error**, but more often than not it shows the **95% confidence interval** of the mean. So, often when you see a graph showing the mean, perhaps displayed as a bar or a symbol, it is accompanied by this I-shaped bar. "
   ]
  },
  {
   "cell_type": "markdown",
   "metadata": {},
   "source": [
    "#### Model 1: The Mean"
   ]
  },
  {
   "cell_type": "markdown",
   "metadata": {},
   "source": [
    "First of all, we convert scores so that they have a mean of 0 and standard deviation of 1 (**z-scores**) using this equation:\n",
    "\n",
    "$$z = \\frac{X-\\bar{X}}{s}$$"
   ]
  },
  {
   "cell_type": "code",
   "execution_count": 65,
   "metadata": {},
   "outputs": [
    {
     "name": "stdout",
     "output_type": "stream",
     "text": [
      "[-2.07019668 -1.38013112 -1.38013112 -0.69006556 -0.69006556 -0.69006556\n",
      " -0.69006556  0.          0.          0.          0.          0.\n",
      "  0.          0.69006556  0.69006556  0.69006556  0.69006556  1.38013112\n",
      "  1.38013112  2.07019668]\n"
     ]
    }
   ],
   "source": [
    "# calculate z-scores\n",
    "z = stats.zscore(df.height)\n",
    "print(z)\n",
    "# assign z-scores to df\n",
    "df = df.assign(z = z)"
   ]
  },
  {
   "cell_type": "code",
   "execution_count": 66,
   "metadata": {},
   "outputs": [
    {
     "name": "stderr",
     "output_type": "stream",
     "text": [
      "C:\\Anaconda\\envs\\myenv\\lib\\site-packages\\seaborn\\distributions.py:2551: FutureWarning: `distplot` is a deprecated function and will be removed in a future version. Please adapt your code to use either `displot` (a figure-level function with similar flexibility) or `histplot` (an axes-level function for histograms).\n",
      "  warnings.warn(msg, FutureWarning)\n"
     ]
    },
    {
     "data": {
      "image/png": "[encoded data removed]",
      "text/plain": [
       "<Figure size 432x288 with 1 Axes>"
      ]
     },
     "metadata": {},
     "output_type": "display_data"
    }
   ],
   "source": [
    "plt = sns.distplot(df.z);\n",
    "# draw a vertical line\n",
    "plt.axvline(1.96, 0, 1, linewidth=2, color='r');\n",
    "# add text\n",
    "plt.text(2.1, 0.3,'z = 1.96', rotation=90, color='r');\n",
    "plt.axvline(-1.96, 0, 1, linewidth=2, color='r');\n",
    "plt.text(-2.2, 0.3,'z = -1.96', rotation=90, color='r');"
   ]
  },
  {
   "cell_type": "markdown",
   "metadata": {},
   "source": [
    "If we know that our limits are −1.96 and 1.96 as z-scores, then to find out the corresponding scores in our raw data we can replace z in the equation (because there are two values, we get two equations):\n",
    "\n",
    "$$1.96 = \\frac{X-\\bar{X}}{s}$$\n",
    "\n",
    "and  \n",
    "\n",
    "$$-1.96 = \\frac{X-\\bar{X}}{s}$$\n",
    "\n",
    "We rearrange these equations to discover the value of X:\n",
    "\n",
    "$$1.96 \\times s = X - \\bar{X}$$  \n",
    "\n",
    "$$(1.96 \\times s) + \\bar{X} = X$$  \n",
    "\n",
    "and\n",
    "\n",
    "$$-1.96 \\times s = X - \\bar{X}$$\n",
    "\n",
    "$$(-1.96 \\times s) + \\bar{X} = X$$ \n",
    "\n",
    "Therefore, the confidence interval can easily be calculated once the **standard deviation** (s in the equation) and **mean** ($\\bar{x}$ in the equation) are known. \n",
    "\n",
    "However, we use the **standard error** and not the standard deviation because we’re interested in the variability of sample means, not the variability in observations within the sample. \n",
    "\n",
    "The lower boundary of the confidence interval is, therefore, the mean minus 1.96 times the standard error, and the upper boundary is the mean plus 1.96 standard errors: \n",
    "\n",
    "\n",
    "**lower boundary of confidence intervall** = $\\bar{X} - (1.96 \\times SE)$\n",
    "\n",
    "**upper boundary of confidence intervall** = $\\bar{X} + (1.96 \\times SE)$\n",
    "\n",
    "As such, the mean is always in the centre of the confidence interval. We know that 95% of confidence intervals contain the population mean, so we can assume this confidence interval contains the true mean; therefore, if the interval is small,the sample mean must be very close to the true man. Conversely, if the confidenve interval is very wide then the sample mean could be very different from the true mean, indicating that it is a bad representation of the population."
   ]
  },
  {
   "cell_type": "code",
   "execution_count": 67,
   "metadata": {},
   "outputs": [
    {
     "name": "stdout",
     "output_type": "stream",
     "text": [
      "Lower boundary of CI 164.34838823311972\n",
      "Upper boundary of CI 165.65161176688028\n"
     ]
    }
   ],
   "source": [
    "# lower boundary\n",
    "lb = (df.height.mean() - (1.96*se))\n",
    "# upper boundary\n",
    "up = (df.height.mean() + (1.96*se))\n",
    "print('Lower boundary of CI', lb)\n",
    "print('Upper boundary of CI', up)"
   ]
  },
  {
   "cell_type": "code",
   "execution_count": 68,
   "metadata": {
    "scrolled": false
   },
   "outputs": [
    {
     "name": "stderr",
     "output_type": "stream",
     "text": [
      "C:\\Anaconda\\envs\\myenv\\lib\\site-packages\\seaborn\\distributions.py:2551: FutureWarning: `distplot` is a deprecated function and will be removed in a future version. Please adapt your code to use either `displot` (a figure-level function with similar flexibility) or `histplot` (an axes-level function for histograms).\n",
      "  warnings.warn(msg, FutureWarning)\n"
     ]
    },
    {
     "data": {
      "image/png": "[encoded data removed]",
      "text/plain": [
       "<Figure size 432x288 with 1 Axes>"
      ]
     },
     "metadata": {},
     "output_type": "display_data"
    }
   ],
   "source": [
    "# draw limits of confidence intervall\n",
    "plt = sns.distplot(df.height);\n",
    "# draw a vertical line to mark the mean \n",
    "plt.axvline(165, 0, 1, linewidth=3, color='b');\n",
    "# add text\n",
    "plt.text(165.1, 0.1,'Mean = 165', rotation=90, color='b');\n",
    "# draw a vertical line to mark the lower limit of the confidence intervall\n",
    "plt.axvline(164.348388, 0, 1, linewidth=3, color='w');\n",
    "# add text\n",
    "plt.text(164, 0.15,'Lower limit = 164.34 ', rotation=90, color='w');\n",
    "# draw a vertical line to mark the upper limit of the confidence intervall\n",
    "plt.axvline(165.651612, 0, 1, linewidth=3, color='w');\n",
    "plt.text(165.8, 0.15,'Upper limit = 165.65', rotation=90, color='w');"
   ]
  },
  {
   "cell_type": "markdown",
   "metadata": {},
   "source": [
    "#### Model 2: Linear Regression"
   ]
  },
  {
   "cell_type": "markdown",
   "metadata": {},
   "source": [
    "Confidence intervall for parameter $b_1$ (height_parents)\n",
    "\n",
    "**lower boundary of confidence intervall** = $b_1 - (1.96 \\times SE(b_1))$\n",
    "\n",
    "**upper boundary of confidence intervall** = $b_1 + (1.96 \\times SE(b_1))$"
   ]
  },
  {
   "cell_type": "code",
   "execution_count": 69,
   "metadata": {
    "scrolled": true
   },
   "outputs": [
    {
     "data": {
      "text/html": [
       "<div>\n",
       "<style scoped>\n",
       "    .dataframe tbody tr th:only-of-type {\n",
       "        vertical-align: middle;\n",
       "    }\n",
       "\n",
       "    .dataframe tbody tr th {\n",
       "        vertical-align: top;\n",
       "    }\n",
       "\n",
       "    .dataframe thead th {\n",
       "        text-align: right;\n",
       "    }\n",
       "</style>\n",
       "<table border=\"1\" class=\"dataframe\">\n",
       "  <thead>\n",
       "    <tr style=\"text-align: right;\">\n",
       "      <th></th>\n",
       "      <th>0</th>\n",
       "      <th>1</th>\n",
       "    </tr>\n",
       "  </thead>\n",
       "  <tbody>\n",
       "    <tr>\n",
       "      <th>Intercept</th>\n",
       "      <td>1.076702</td>\n",
       "      <td>60.853420</td>\n",
       "    </tr>\n",
       "    <tr>\n",
       "      <th>height_parents</th>\n",
       "      <td>0.631009</td>\n",
       "      <td>0.993165</td>\n",
       "    </tr>\n",
       "  </tbody>\n",
       "</table>\n",
       "</div>"
      ],
      "text/plain": [
       "                       0          1\n",
       "Intercept       1.076702  60.853420\n",
       "height_parents  0.631009   0.993165"
      ]
     },
     "execution_count": 69,
     "metadata": {},
     "output_type": "execute_result"
    }
   ],
   "source": [
    "# Obtain confidence interval for fitted parameters \n",
    "lm.conf_int(alpha=0.05)"
   ]
  },
  {
   "cell_type": "code",
   "execution_count": 70,
   "metadata": {},
   "outputs": [
    {
     "data": {
      "text/html": [
       "<div>\n",
       "<style scoped>\n",
       "    .dataframe tbody tr th:only-of-type {\n",
       "        vertical-align: middle;\n",
       "    }\n",
       "\n",
       "    .dataframe tbody tr th {\n",
       "        vertical-align: top;\n",
       "    }\n",
       "\n",
       "    .dataframe thead th {\n",
       "        text-align: right;\n",
       "    }\n",
       "</style>\n",
       "<table border=\"1\" class=\"dataframe\">\n",
       "  <thead>\n",
       "    <tr style=\"text-align: right;\">\n",
       "      <th></th>\n",
       "      <th>mean</th>\n",
       "      <th>mean_se</th>\n",
       "      <th>mean_ci_lower</th>\n",
       "      <th>mean_ci_upper</th>\n",
       "      <th>obs_ci_lower</th>\n",
       "      <th>obs_ci_upper</th>\n",
       "    </tr>\n",
       "  </thead>\n",
       "  <tbody>\n",
       "    <tr>\n",
       "      <th>0</th>\n",
       "      <td>167.4</td>\n",
       "      <td>0.29</td>\n",
       "      <td>166.79</td>\n",
       "      <td>168.01</td>\n",
       "      <td>165.94</td>\n",
       "      <td>168.85</td>\n",
       "    </tr>\n",
       "  </tbody>\n",
       "</table>\n",
       "</div>"
      ],
      "text/plain": [
       "    mean  mean_se  mean_ci_lower  mean_ci_upper  obs_ci_lower  obs_ci_upper\n",
       "0  167.4     0.29         166.79         168.01        165.94        168.85"
      ]
     },
     "execution_count": 70,
     "metadata": {},
     "output_type": "execute_result"
    }
   ],
   "source": [
    "# Make a prediction for height when parents average height is 168 cm\n",
    "to_predict = pd.DataFrame({'height_parents':[168]})\n",
    "results = lm.get_prediction(to_predict)\n",
    "round(results.summary_frame(alpha=0.05),2)"
   ]
  },
  {
   "cell_type": "markdown",
   "metadata": {},
   "source": [
    "- The predicted height for an average parents height of 168 cm is 167.4.\n",
    "- For 95% the confidence interval is [166.79, 168.01] and the prediction interval is [165.94, 168.85]"
   ]
  },
  {
   "cell_type": "markdown",
   "metadata": {},
   "source": [
    "How much will the outcome vary from our prediction? We use **prediction intervals** (obs_ci_lower and obs_ci_uppper) to answer this question. Prediction intervals are always wider than confidence intervals, because they incorporate both the error in the estimate for f(X) (the reducible error) and the uncertainty as to how much an individual point will differ from the population regression (the irreducible error). \n",
    "\n",
    "We interpret this to mean that 95% of intervals of this form will contain the true value of Y for parents with this average height. Note that both intervals are centered at 167.4 cm, but that the **prediction interval** is substantially wider than the confidence interval, reflecting the increased uncertainty about the individual height for given parents height in comparison to the average height of many parents. "
   ]
  },
  {
   "cell_type": "code",
   "execution_count": 71,
   "metadata": {},
   "outputs": [
    {
     "name": "stderr",
     "output_type": "stream",
     "text": [
      "C:\\Anaconda\\envs\\myenv\\lib\\site-packages\\seaborn\\regression.py:580: UserWarning: The `size` parameter has been renamed to `height`; please update your code.\n",
      "  warnings.warn(msg, UserWarning)\n"
     ]
    },
    {
     "data": {
      "image/png": "[encoded data removed]",
      "text/plain": [
       "<Figure size 756x504 with 1 Axes>"
      ]
     },
     "metadata": {},
     "output_type": "display_data"
    }
   ],
   "source": [
    "# Plot regression line with CI 95%\n",
    "sns.lmplot(x='height_parents', y='height', data=df, order=1, line_kws={'color':'red'}, size=7, aspect=1.5, ci=95);"
   ]
  },
  {
   "cell_type": "markdown",
   "metadata": {},
   "source": [
    "---"
   ]
  },
  {
   "cell_type": "markdown",
   "metadata": {},
   "source": [
    "### Confidence intervals in small samples\n",
    "\n",
    "The procedure we just used is fine when samples are large, because the central limit theorem tells us that the sampling distribution will be normal. However, for small samples, the sampling distribution is not normal – it has a t-distribution. The t-distribution is a family of probability distributions that change shape as the sample size gets bigger (when the sample is very big, it has the shape of a normal distribution). \n",
    "\n",
    "To construct a confidence interval in a small sample we use the same principle as before, but instead of using the value for z we use the value for t:\n",
    "\n",
    "lower boundary of confidence intervall = $\\bar{X} - (t_{n-1} \\times SE)$\n",
    "\n",
    "upper boundary of confidence intervall = $\\bar{X} + (t_{n-1}  \\times SE)$\n",
    "\n",
    "The (n − 1) in the equations is the degrees of freedom and tells us which of the t-distributions to use. For a 95% confidence interval, we can calculate the value of t for a two-tailed test with probability of 0.05, for the appropriate degrees of freedom."
   ]
  },
  {
   "cell_type": "code",
   "execution_count": 72,
   "metadata": {},
   "outputs": [
    {
     "name": "stdout",
     "output_type": "stream",
     "text": [
      "2.093024054408263\n",
      "Lower boundary of CI (t-statistics) 164.30416372335924\n",
      "Upper boundary of CI (t-statistics) 165.69583627664076\n"
     ]
    }
   ],
   "source": [
    "# calculate t-statistic\n",
    "# 95% confidence interval, two tailed test, \n",
    "# p<0.05 (we need to take 0.025 at each side), n=20, df=19\n",
    "t = stats.t.ppf(1-0.025, 19)\n",
    "print(t)\n",
    "# lower boundary\n",
    "lb_t = (df.height.mean() - (t*se))\n",
    "# upper boundary\n",
    "up_t = (df.height.mean() + (t*se))\n",
    "print('Lower boundary of CI (t-statistics)', lb_t)\n",
    "print('Upper boundary of CI (t-statistics)', up_t)"
   ]
  },
  {
   "cell_type": "code",
   "execution_count": 73,
   "metadata": {
    "scrolled": true
   },
   "outputs": [
    {
     "name": "stderr",
     "output_type": "stream",
     "text": [
      "C:\\Anaconda\\envs\\myenv\\lib\\site-packages\\seaborn\\distributions.py:2551: FutureWarning: `distplot` is a deprecated function and will be removed in a future version. Please adapt your code to use either `displot` (a figure-level function with similar flexibility) or `histplot` (an axes-level function for histograms).\n",
      "  warnings.warn(msg, FutureWarning)\n"
     ]
    },
    {
     "data": {
      "image/png": "[encoded data removed]",
      "text/plain": [
       "<Figure size 432x288 with 1 Axes>"
      ]
     },
     "metadata": {},
     "output_type": "display_data"
    }
   ],
   "source": [
    "# draw limits of confidence intervall for t-statistic\n",
    "plt = sns.distplot(df.height);\n",
    "# draw a vertical line to mark the mean \n",
    "plt.axvline(165, 0, 1, linewidth=3, color='b');\n",
    "# add text\n",
    "plt.text(165.1, 0.1,'Mean = 165', rotation=90, color='b');\n",
    "# draw a vertical line to mark the lower limit of the confidence intervall\n",
    "plt.axvline(164.304164, 0, 1, linewidth=3, color='r');\n",
    "# add text\n",
    "plt.text(164, 0.15,'Lower limit = 164.30 ', rotation=90, color='r');\n",
    "# draw a vertical line to mark the upper limit of the confidence intervall\n",
    "plt.axvline(165.695836, 0, 1, linewidth=3, color='r');\n",
    "plt.text(165.8, 0.15,'Upper limit = 165.69', rotation=90, color='r');"
   ]
  },
  {
   "cell_type": "code",
   "execution_count": 74,
   "metadata": {
    "scrolled": true
   },
   "outputs": [
    {
     "name": "stderr",
     "output_type": "stream",
     "text": [
      "C:\\Anaconda\\envs\\myenv\\lib\\site-packages\\seaborn\\distributions.py:2551: FutureWarning: `distplot` is a deprecated function and will be removed in a future version. Please adapt your code to use either `displot` (a figure-level function with similar flexibility) or `histplot` (an axes-level function for histograms).\n",
      "  warnings.warn(msg, FutureWarning)\n"
     ]
    },
    {
     "data": {
      "image/png": "[encoded data removed]",
      "text/plain": [
       "<Figure size 432x288 with 1 Axes>"
      ]
     },
     "metadata": {},
     "output_type": "display_data"
    }
   ],
   "source": [
    "# compare CI z-statistic with t-statistic\n",
    "# draw limits of confidence intervall\n",
    "plt = sns.distplot(df.height);\n",
    "# draw a vertical line to mark the mean \n",
    "plt.axvline(165, 0, 1, linewidth=3, color='b');\n",
    "# add text\n",
    "# draw vertical lines to mark the lower/upper limit of the confidence intervall (z)\n",
    "plt.axvline(164.348388, 0, 1, linewidth=3, color='w');\n",
    "plt.axvline(165.651612, 0, 1, linewidth=3, color='w');\n",
    "# draw vertical lines to mark the lower/upper limit of the confidence intervall (t)\n",
    "plt.axvline(164.304164, 0, 1, linewidth=3, color='r');\n",
    "plt.axvline(165.695836, 0, 1, linewidth=3, color='r');"
   ]
  },
  {
   "cell_type": "markdown",
   "metadata": {},
   "source": [
    "---\n",
    "---"
   ]
  },
  {
   "cell_type": "markdown",
   "metadata": {},
   "source": [
    "## Further measures for model selection\n",
    "\n",
    "When fitting models, it is possible to increase the likelihood by adding parameters, but doing so may result in overfitting. \n",
    "\n",
    "Both the Bayesian information criterion (**BIC**) (also called the Schwarz criterion SBC or SBIC) and Akaike information criterion (**AIC**) attempt to resolve this problem by introducing a penalty term for the number of parameters in the model; the penalty term is larger in BIC than in AIC. \n",
    "\n",
    "Both measures are an estimator of the **relative quality** of statistical models for a given set of data. Hence, they are used to select the best performing model.  \n",
    "\n",
    "Here we cover AIC and BIC in the case of a linear model fit using least squares; however, these quantities can also be defined for more general types of models.\n",
    "\n",
    "For both measures, lower values are better"
   ]
  },
  {
   "cell_type": "markdown",
   "metadata": {},
   "source": [
    "### Bayesian information criterion (BIC) "
   ]
  },
  {
   "cell_type": "code",
   "execution_count": 74,
   "metadata": {
    "scrolled": true
   },
   "outputs": [
    {
     "data": {
      "text/plain": [
       "41.980585438104086"
      ]
     },
     "execution_count": 74,
     "metadata": {},
     "output_type": "execute_result"
    }
   ],
   "source": [
    "# BIC\n",
    "lm.bic"
   ]
  },
  {
   "cell_type": "markdown",
   "metadata": {},
   "source": [
    "### Akaike information criterion (AIC) "
   ]
  },
  {
   "cell_type": "code",
   "execution_count": 75,
   "metadata": {},
   "outputs": [
    {
     "data": {
      "text/plain": [
       "39.989120890996105"
      ]
     },
     "execution_count": 75,
     "metadata": {},
     "output_type": "execute_result"
    }
   ],
   "source": [
    "# AIC\n",
    "lm.aic"
   ]
  }
 ],
 "metadata": {
  "kernelspec": {
   "display_name": "Python 3",
   "language": "python",
   "name": "python3"
  },
  "language_info": {
   "codemirror_mode": {
    "name": "ipython",
    "version": 3
   },
   "file_extension": ".py",
   "mimetype": "text/x-python",
   "name": "python",
   "nbconvert_exporter": "python",
   "pygments_lexer": "ipython3",
   "version": "3.8.5"
  },
  "toc": {
   "base_numbering": 1,
   "nav_menu": {},
   "number_sections": true,
   "sideBar": true,
   "skip_h1_title": true,
   "title_cell": "Table of Contents",
   "title_sidebar": "Contents",
   "toc_cell": true,
   "toc_position": {},
   "toc_section_display": true,
   "toc_window_display": false
  },
  "varInspector": {
   "cols": {
    "lenName": 16,
    "lenType": 16,
    "lenVar": 40
   },
   "kernels_config": {
    "python": {
     "delete_cmd_postfix": "",
     "delete_cmd_prefix": "del ",
     "library": "var_list.py",
     "varRefreshCmd": "print(var_dic_list())"
    },
    "r": {
     "delete_cmd_postfix": ") ",
     "delete_cmd_prefix": "rm(",
     "library": "var_list.r",
     "varRefreshCmd": "cat(var_dic_list()) "
    }
   },
   "types_to_exclude": [
    "module",
    "function",
    "builtin_function_or_method",
    "instance",
    "_Feature"
   ],
   "window_display": false
  }
 },
 "nbformat": 4,
 "nbformat_minor": 2
}
