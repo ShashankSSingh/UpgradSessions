{
 "cells": [
  {
   "cell_type": "markdown",
   "metadata": {},
   "source": [
    "# Inferential Statistics\n",
    "Inferential Statistics makes inferences and predictions about extensive data by considering a sample data from the original data. It uses probability to reach conclusions. The process of “inferring” insights from a sample data is called <b>“Inferential Statistics.”</b>"
   ]
  },
  {
   "cell_type": "markdown",
   "metadata": {},
   "source": [
    "To understand <b>Inferential Statistics</b>, we have to have basic knowledge about the following fundamental topics in <b>Probability</b> -  \n",
    "1. The Basic Definition of Probability\n",
    "2. The multiplication rule of Probability\n",
    "3. The addition rule of Probability\n",
    "4. nCr (Combination)\n",
    "\n",
    "We can practice the basics here,  \n",
    "<a href=\"https://www.mathsisfun.com/data/probability.html\">Math is Fun</a>  \n",
    "<a href=\"https://www.mathopolis.com/questions/q.php?id=700&site=1&ref=/data/probability.html&qs=700_701_702_1475_1476_1477_2175_2176_2177_2178\">Mathopolis</a>"
   ]
  },
  {
   "cell_type": "markdown",
   "metadata": {},
   "source": [
    "### Random Variable:\n",
    "Let’s take a real-world example of Slot-Machines in Casinos.   \n",
    "How do Casinos make sure they don’t lose money in the long run, on their slot-machines?  \n",
    "It’s pretty simple; they use Probability."
   ]
  },
  {
   "cell_type": "markdown",
   "metadata": {},
   "source": [
    "### Setting up a game:\n",
    "To understand this, let’s play a game,  \n",
    "Take a bag which contains <b>3 Red balls</b> and <b>2 Blue balls</b>.  \n",
    "\n",
    "The game is, we have to pick one ball from the bag, note it’s color and place the ball inside the bag and pick a ball again from the bag, note the color, and put it inside.   Repeat this process total of 4 times. This whole process is one set.\n",
    "Conduct this experiment K times, i.e., K games or K players playing  the game\n",
    "\n",
    "For this excercise we pick K = 10000\n",
    "\n",
    "The Condition is, if we draw Red ball four times consecutively, i.e., the set contains all the Red Balls, then we would receive Rs. 2000. If not, we’ll have to pay Rs. 100 to the dealer."
   ]
  },
  {
   "cell_type": "code",
   "execution_count": 1,
   "metadata": {},
   "outputs": [],
   "source": [
    "import numpy as np\n",
    "import pandas as pd\n",
    "\n",
    "import collections\n",
    "\n",
    "import matplotlib.pyplot as plt\n",
    "%matplotlib inline"
   ]
  },
  {
   "cell_type": "code",
   "execution_count": 2,
   "metadata": {},
   "outputs": [],
   "source": [
    "num_players = 10000\n",
    "game_results = []\n",
    "for i in range(num_players):\n",
    "    ball1 = np.random.randint(2)\n",
    "    ball2 = np.random.randint(2)\n",
    "    ball3 = np.random.randint(2)\n",
    "    ball4 = np.random.randint(2)\n",
    "    draw = [ball1, ball2, ball3, ball4]\n",
    "    game_results.append(draw)"
   ]
  },
  {
   "cell_type": "code",
   "execution_count": 3,
   "metadata": {},
   "outputs": [],
   "source": [
    "game_results = np.asarray(game_results)"
   ]
  },
  {
   "cell_type": "code",
   "execution_count": 4,
   "metadata": {},
   "outputs": [
    {
     "data": {
      "text/plain": [
       "(10000, 4)"
      ]
     },
     "execution_count": 4,
     "metadata": {},
     "output_type": "execute_result"
    }
   ],
   "source": [
    "game_results.shape"
   ]
  },
  {
   "cell_type": "code",
   "execution_count": 5,
   "metadata": {},
   "outputs": [],
   "source": [
    "X = dict(sorted(collections.Counter(\n",
    "    game_results.sum(axis = 1)\n",
    ").items()))"
   ]
  },
  {
   "cell_type": "markdown",
   "metadata": {},
   "source": [
    "### Playing the game:\n",
    "Let’s see if we play this game, the dealer wins or loses money in the long run.  \n",
    "  \n",
    "To understand all this, we’ll approach the problem in 3 steps.  \n",
    "1. Find all the Possible outcomes.\n",
    "2. Find the Probability of each outcome.\n",
    "3. Using the Probabilities, estimate the profit/loss."
   ]
  },
  {
   "cell_type": "markdown",
   "metadata": {},
   "source": [
    "#### 1. Possible Outcomes\n",
    "Let’s see, all the possible outcomes we can get if we draw a ball from the bag four times are.  \n",
    "1. RRRR\n",
    "2. BRRR, RBRR, RRBR, RRRB\n",
    "3. BBRR, BRBR, BRRB, RBBR, RBRB, RRBB\n",
    "4. BBBR, BBRB, BRBB, RBBB\n",
    "5. BBBB  \n",
    "\n",
    "There are a total of 16 outcomes possible."
   ]
  },
  {
   "cell_type": "markdown",
   "metadata": {},
   "source": [
    "#### 2. Probability of each outcome\n",
    "\n",
    "It is advisable to quantify the outcome, to calculate the probability.  \n",
    "By using “Random Variable,” we’ll quantify the result.\n",
    "\n",
    "##### Random Variable:\n",
    "“X” denotes <b>Random Variable.</b>  \n",
    "The definition of “X” depends on our problem statement.  \n",
    "Here, we are interested in the number of red balls drawn from the bag.  \n",
    "\n",
    "<b>X = Number of Red Balls drawn.</b>  \n",
    "Now the possible outcomes in terms of ‘X’ is -  \n",
    "RRRR — — — X = 4  \n",
    "BRRR, RBRR, RRBR, RRRB — — — X = 3  \n",
    "BBRR, BRBR, BRRB, RBBR, RBRB, RRBB — — — X = 2  \n",
    "BBBR, BBRB, BRBB, RBBB — — — X = 1  \n",
    "BBBB — — — X = 0  \n",
    "\n",
    "So, based on X value, we can say that, if X=4, the player wins the game, and for remaining all the values of X, the player loses the game.  \n",
    "\n",
    "After conducting the experiment 1000 times, and storing the values, let’s plot the outcomes in a histogram, we’ll get the graph something like this,"
   ]
  },
  {
   "cell_type": "code",
   "execution_count": 6,
   "metadata": {},
   "outputs": [
    {
     "data": {
      "text/plain": [
       "{0: 619, 1: 2491, 2: 3783, 3: 2477, 4: 630}"
      ]
     },
     "execution_count": 6,
     "metadata": {},
     "output_type": "execute_result"
    }
   ],
   "source": [
    "X"
   ]
  },
  {
   "cell_type": "code",
   "execution_count": 7,
   "metadata": {},
   "outputs": [],
   "source": [
    "games_df=pd.DataFrame.from_dict(X, orient='index').reset_index().rename(columns={'index':'X', 0:'Games'})"
   ]
  },
  {
   "cell_type": "code",
   "execution_count": 8,
   "metadata": {},
   "outputs": [
    {
     "data": {
      "image/png": "[encoded data removed]",
      "text/plain": [
       "<Figure size 432x288 with 1 Axes>"
      ]
     },
     "metadata": {
      "needs_background": "light"
     },
     "output_type": "display_data"
    }
   ],
   "source": [
    "games_df['Games'].plot.bar()\n",
    "plt.xticks(rotation=360)\n",
    "plt.xlabel(\"X\")\n",
    "plt.ylabel(\"Games\")\n",
    "plt.show()"
   ]
  },
  {
   "cell_type": "markdown",
   "metadata": {},
   "source": [
    "The definition of Probability is  \n",
    "Probability(P) = (Favorable Outcomes)/(Total Number of Outcomes)  \n",
    "Now, let’s find out the Probability for different values of X based on the above graph."
   ]
  },
  {
   "cell_type": "code",
   "execution_count": 9,
   "metadata": {},
   "outputs": [],
   "source": [
    "games_df[\"Prob\"] = games_df[\"Games\"].apply(lambda x: round(x/games_df[\"Games\"].sum(),3))"
   ]
  },
  {
   "cell_type": "code",
   "execution_count": 10,
   "metadata": {},
   "outputs": [
    {
     "data": {
      "text/html": [
       "<div>\n",
       "<style scoped>\n",
       "    .dataframe tbody tr th:only-of-type {\n",
       "        vertical-align: middle;\n",
       "    }\n",
       "\n",
       "    .dataframe tbody tr th {\n",
       "        vertical-align: top;\n",
       "    }\n",
       "\n",
       "    .dataframe thead th {\n",
       "        text-align: right;\n",
       "    }\n",
       "</style>\n",
       "<table border=\"1\" class=\"dataframe\">\n",
       "  <thead>\n",
       "    <tr style=\"text-align: right;\">\n",
       "      <th></th>\n",
       "      <th>X</th>\n",
       "      <th>Games</th>\n",
       "      <th>Prob</th>\n",
       "    </tr>\n",
       "  </thead>\n",
       "  <tbody>\n",
       "    <tr>\n",
       "      <th>0</th>\n",
       "      <td>0</td>\n",
       "      <td>619</td>\n",
       "      <td>0.062</td>\n",
       "    </tr>\n",
       "    <tr>\n",
       "      <th>1</th>\n",
       "      <td>1</td>\n",
       "      <td>2491</td>\n",
       "      <td>0.249</td>\n",
       "    </tr>\n",
       "    <tr>\n",
       "      <th>2</th>\n",
       "      <td>2</td>\n",
       "      <td>3783</td>\n",
       "      <td>0.378</td>\n",
       "    </tr>\n",
       "    <tr>\n",
       "      <th>3</th>\n",
       "      <td>3</td>\n",
       "      <td>2477</td>\n",
       "      <td>0.248</td>\n",
       "    </tr>\n",
       "    <tr>\n",
       "      <th>4</th>\n",
       "      <td>4</td>\n",
       "      <td>630</td>\n",
       "      <td>0.063</td>\n",
       "    </tr>\n",
       "  </tbody>\n",
       "</table>\n",
       "</div>"
      ],
      "text/plain": [
       "   X  Games   Prob\n",
       "0  0    619  0.062\n",
       "1  1   2491  0.249\n",
       "2  2   3783  0.378\n",
       "3  3   2477  0.248\n",
       "4  4    630  0.063"
      ]
     },
     "execution_count": 10,
     "metadata": {},
     "output_type": "execute_result"
    }
   ],
   "source": [
    "games_df"
   ]
  },
  {
   "cell_type": "markdown",
   "metadata": {},
   "source": [
    "#### 3. Using the Probabilities, estimate the profit/loss  \n",
    "Since we now know the probabilities for X=0 to 4,   \n",
    "let’s calculate the total number of red balls drawn by a player in one game.  \n",
    "\n",
    "Number of players with 0 red balls = P(X=0) x num_players  \n",
    "Number of players with 1 red balls = P(X=1) x num_players  \n",
    "Number of players with 2 red balls = P(X=2) x num_players  \n",
    "Number of players with 3 red balls = P(X=3) x num_players  \n",
    "Number of players with 4 red balls = P(X=4) x num_players  "
   ]
  },
  {
   "cell_type": "code",
   "execution_count": 11,
   "metadata": {},
   "outputs": [],
   "source": [
    "games_df[\"NumPlayers\"] = games_df[\"Prob\"] * num_players"
   ]
  },
  {
   "cell_type": "code",
   "execution_count": 12,
   "metadata": {},
   "outputs": [
    {
     "data": {
      "text/html": [
       "<div>\n",
       "<style scoped>\n",
       "    .dataframe tbody tr th:only-of-type {\n",
       "        vertical-align: middle;\n",
       "    }\n",
       "\n",
       "    .dataframe tbody tr th {\n",
       "        vertical-align: top;\n",
       "    }\n",
       "\n",
       "    .dataframe thead th {\n",
       "        text-align: right;\n",
       "    }\n",
       "</style>\n",
       "<table border=\"1\" class=\"dataframe\">\n",
       "  <thead>\n",
       "    <tr style=\"text-align: right;\">\n",
       "      <th></th>\n",
       "      <th>X</th>\n",
       "      <th>Games</th>\n",
       "      <th>Prob</th>\n",
       "      <th>NumPlayers</th>\n",
       "    </tr>\n",
       "  </thead>\n",
       "  <tbody>\n",
       "    <tr>\n",
       "      <th>0</th>\n",
       "      <td>0</td>\n",
       "      <td>619</td>\n",
       "      <td>0.062</td>\n",
       "      <td>620.0</td>\n",
       "    </tr>\n",
       "    <tr>\n",
       "      <th>1</th>\n",
       "      <td>1</td>\n",
       "      <td>2491</td>\n",
       "      <td>0.249</td>\n",
       "      <td>2490.0</td>\n",
       "    </tr>\n",
       "    <tr>\n",
       "      <th>2</th>\n",
       "      <td>2</td>\n",
       "      <td>3783</td>\n",
       "      <td>0.378</td>\n",
       "      <td>3780.0</td>\n",
       "    </tr>\n",
       "    <tr>\n",
       "      <th>3</th>\n",
       "      <td>3</td>\n",
       "      <td>2477</td>\n",
       "      <td>0.248</td>\n",
       "      <td>2480.0</td>\n",
       "    </tr>\n",
       "    <tr>\n",
       "      <th>4</th>\n",
       "      <td>4</td>\n",
       "      <td>630</td>\n",
       "      <td>0.063</td>\n",
       "      <td>630.0</td>\n",
       "    </tr>\n",
       "  </tbody>\n",
       "</table>\n",
       "</div>"
      ],
      "text/plain": [
       "   X  Games   Prob  NumPlayers\n",
       "0  0    619  0.062       620.0\n",
       "1  1   2491  0.249      2490.0\n",
       "2  2   3783  0.378      3780.0\n",
       "3  3   2477  0.248      2480.0\n",
       "4  4    630  0.063       630.0"
      ]
     },
     "execution_count": 12,
     "metadata": {},
     "output_type": "execute_result"
    }
   ],
   "source": [
    "games_df"
   ]
  },
  {
   "cell_type": "markdown",
   "metadata": {},
   "source": [
    "<b>Total number of red balls drawn = 0 x Number of players with 0 red balls + 1 x Number of players with 1 red balls +  2 x Number of players with 2 red balls + 3 x Number of players with 3 red balls + 4 x Number of players with 4 red balls</b>"
   ]
  },
  {
   "cell_type": "code",
   "execution_count": 13,
   "metadata": {},
   "outputs": [
    {
     "data": {
      "text/plain": [
       "20010.0"
      ]
     },
     "execution_count": 13,
     "metadata": {},
     "output_type": "execute_result"
    }
   ],
   "source": [
    "((games_df[\"X\"] * games_df[\"NumPlayers\"]).sum()) "
   ]
  },
  {
   "cell_type": "markdown",
   "metadata": {},
   "source": [
    "So, we saw the approx total number of  Red Balls drawn by all the players in the game."
   ]
  },
  {
   "cell_type": "markdown",
   "metadata": {},
   "source": [
    "Average number of red balls = Total number of red balls drawn / num_players  \n",
    "\n",
    "This is the average number of <b>expected</b> \"Red\" balls in a game.  "
   ]
  },
  {
   "cell_type": "code",
   "execution_count": 14,
   "metadata": {},
   "outputs": [
    {
     "data": {
      "text/plain": [
       "2.001"
      ]
     },
     "execution_count": 14,
     "metadata": {},
     "output_type": "execute_result"
    }
   ],
   "source": [
    "((games_df[\"X\"] * games_df[\"NumPlayers\"]).sum()) / num_players"
   ]
  },
  {
   "cell_type": "markdown",
   "metadata": {},
   "source": [
    "If we remember, in our game, players will get Rs 2000 if X=4, and for remaining all X values, players have to pay Rs 1000.  \n",
    "\n",
    "Now, the probability of a player getting Rs 2000 is equal to the player’s probability of drawing four red balls.  \n",
    "That means, for remaining all cases, players have to pay Rs 100.  \n",
    "\n",
    "So, X can take values +2000 and -100  \n",
    "<b>P(X = +2000) = P(4 red balls)  \n",
    "P(X = -100) = P(0,1,2, or 3 red balls)</b>   "
   ]
  },
  {
   "cell_type": "markdown",
   "metadata": {},
   "source": [
    "Now, the Expected Value of X(where X is the money won by after playing the game once)  \n",
    "<b>EV(X) = 1000 x P(4 red balls) + (-50) x P(0,1,2 or 3 red balls)</b>"
   ]
  },
  {
   "cell_type": "code",
   "execution_count": 15,
   "metadata": {},
   "outputs": [
    {
     "data": {
      "text/plain": [
       "4    32.3\n",
       "Name: Prob, dtype: float64"
      ]
     },
     "execution_count": 15,
     "metadata": {},
     "output_type": "execute_result"
    }
   ],
   "source": [
    "(2000*games_df.loc[games_df[\"X\"]==4, \"Prob\"]) -100*games_df.loc[games_df[\"X\"]!=4, \"Prob\"].sum()"
   ]
  },
  {
   "cell_type": "markdown",
   "metadata": {},
   "source": [
    "This means that the player on average can expect to <b>win</b> from this game in the long run <b>(as the expected value is positive)</b>, which is very good for the player, <b>but this model will not work for the game organizers</b> as they are losing the money."
   ]
  },
  {
   "cell_type": "markdown",
   "metadata": {},
   "source": [
    "If the <b>organisers wants to make money</b>, they need to ensure the <b>player’s Expected Value should be in Negative</b>.   \n",
    "For, this the organizers have to change the prize money, like Rs. 1500 for the win and Rs. 150 if the player loses."
   ]
  },
  {
   "cell_type": "code",
   "execution_count": 16,
   "metadata": {},
   "outputs": [
    {
     "data": {
      "text/plain": [
       "4   -46.05\n",
       "Name: Prob, dtype: float64"
      ]
     },
     "execution_count": 16,
     "metadata": {},
     "output_type": "execute_result"
    }
   ],
   "source": [
    "(1500*games_df.loc[games_df[\"X\"]==4, \"Prob\"]) -150*games_df.loc[games_df[\"X\"]!=4, \"Prob\"].sum()"
   ]
  },
  {
   "cell_type": "code",
   "execution_count": null,
   "metadata": {},
   "outputs": [],
   "source": []
  }
 ],
 "metadata": {
  "kernelspec": {
   "display_name": "Python 3",
   "language": "python",
   "name": "python3"
  },
  "language_info": {
   "codemirror_mode": {
    "name": "ipython",
    "version": 3
   },
   "file_extension": ".py",
   "mimetype": "text/x-python",
   "name": "python",
   "nbconvert_exporter": "python",
   "pygments_lexer": "ipython3",
   "version": "3.8.3"
  }
 },
 "nbformat": 4,
 "nbformat_minor": 2
}
